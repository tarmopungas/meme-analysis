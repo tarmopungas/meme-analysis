{
 "cells": [
  {
   "cell_type": "markdown",
   "id": "b16c1e18",
   "metadata": {},
   "source": [
    "# Events Extractions"
   ]
  },
  {
   "cell_type": "code",
   "execution_count": 1,
   "id": "5c69d268",
   "metadata": {},
   "outputs": [],
   "source": [
    "## Requirements"
   ]
  },
  {
   "cell_type": "code",
   "execution_count": 2,
   "id": "be20676c",
   "metadata": {},
   "outputs": [
    {
     "name": "stdout",
     "output_type": "stream",
     "text": [
      "\u001b[33mDEPRECATION: Configuring installation scheme with distutils config files is deprecated and will no longer work in the near future. If you are using a Homebrew or Linuxbrew Python, please see discussion at https://github.com/Homebrew/homebrew-core/issues/76621\u001b[0m\u001b[33m\n",
      "\u001b[0mRequirement already satisfied: tqdm in /opt/homebrew/lib/python3.9/site-packages (4.62.3)\n",
      "\u001b[33mDEPRECATION: Configuring installation scheme with distutils config files is deprecated and will no longer work in the near future. If you are using a Homebrew or Linuxbrew Python, please see discussion at https://github.com/Homebrew/homebrew-core/issues/76621\u001b[0m\u001b[33m\n",
      "\u001b[0m"
     ]
    }
   ],
   "source": [
    "!pip3 install tqdm"
   ]
  },
  {
   "cell_type": "code",
   "execution_count": 3,
   "id": "f31a538f",
   "metadata": {},
   "outputs": [
    {
     "name": "stdout",
     "output_type": "stream",
     "text": [
      "\u001b[33mDEPRECATION: Configuring installation scheme with distutils config files is deprecated and will no longer work in the near future. If you are using a Homebrew or Linuxbrew Python, please see discussion at https://github.com/Homebrew/homebrew-core/issues/76621\u001b[0m\u001b[33m\n",
      "\u001b[0mRequirement already satisfied: daterangeparser in /opt/homebrew/lib/python3.9/site-packages (1.3.2)\n",
      "Requirement already satisfied: pyparsing in /opt/homebrew/lib/python3.9/site-packages (from daterangeparser) (3.0.7)\n",
      "\u001b[33mDEPRECATION: Configuring installation scheme with distutils config files is deprecated and will no longer work in the near future. If you are using a Homebrew or Linuxbrew Python, please see discussion at https://github.com/Homebrew/homebrew-core/issues/76621\u001b[0m\u001b[33m\n",
      "\u001b[0m"
     ]
    }
   ],
   "source": [
    "!pip3 install daterangeparser"
   ]
  },
  {
   "cell_type": "code",
   "execution_count": 4,
   "id": "c94e4672",
   "metadata": {},
   "outputs": [
    {
     "name": "stdout",
     "output_type": "stream",
     "text": [
      "\u001b[33mDEPRECATION: Configuring installation scheme with distutils config files is deprecated and will no longer work in the near future. If you are using a Homebrew or Linuxbrew Python, please see discussion at https://github.com/Homebrew/homebrew-core/issues/76621\u001b[0m\u001b[33m\n",
      "\u001b[0mRequirement already satisfied: spacy in /opt/homebrew/lib/python3.9/site-packages (3.2.2)\n",
      "Requirement already satisfied: numpy>=1.15.0 in /opt/homebrew/lib/python3.9/site-packages (from spacy) (1.22.2)\n",
      "Requirement already satisfied: requests<3.0.0,>=2.13.0 in /opt/homebrew/lib/python3.9/site-packages (from spacy) (2.27.1)\n",
      "Requirement already satisfied: murmurhash<1.1.0,>=0.28.0 in /opt/homebrew/lib/python3.9/site-packages (from spacy) (1.0.6)\n",
      "Requirement already satisfied: pydantic!=1.8,!=1.8.1,<1.9.0,>=1.7.4 in /opt/homebrew/lib/python3.9/site-packages (from spacy) (1.8.2)\n",
      "Requirement already satisfied: cymem<2.1.0,>=2.0.2 in /opt/homebrew/lib/python3.9/site-packages (from spacy) (2.0.6)\n",
      "Requirement already satisfied: jinja2 in /opt/homebrew/lib/python3.9/site-packages (from spacy) (3.0.3)\n",
      "Requirement already satisfied: setuptools in /opt/homebrew/lib/python3.9/site-packages (from spacy) (60.5.0)\n",
      "Requirement already satisfied: srsly<3.0.0,>=2.4.1 in /opt/homebrew/lib/python3.9/site-packages (from spacy) (2.4.2)\n",
      "Requirement already satisfied: catalogue<2.1.0,>=2.0.6 in /opt/homebrew/lib/python3.9/site-packages (from spacy) (2.0.6)\n",
      "Requirement already satisfied: wasabi<1.1.0,>=0.8.1 in /opt/homebrew/lib/python3.9/site-packages (from spacy) (0.9.0)\n",
      "Requirement already satisfied: pathy>=0.3.5 in /opt/homebrew/lib/python3.9/site-packages (from spacy) (0.6.1)\n",
      "Requirement already satisfied: blis<0.8.0,>=0.4.0 in /opt/homebrew/lib/python3.9/site-packages (from spacy) (0.7.5)\n",
      "Requirement already satisfied: langcodes<4.0.0,>=3.2.0 in /opt/homebrew/lib/python3.9/site-packages (from spacy) (3.3.0)\n",
      "Requirement already satisfied: preshed<3.1.0,>=3.0.2 in /opt/homebrew/lib/python3.9/site-packages (from spacy) (3.0.6)\n",
      "Requirement already satisfied: packaging>=20.0 in /opt/homebrew/lib/python3.9/site-packages (from spacy) (21.3)\n",
      "Requirement already satisfied: typer<0.5.0,>=0.3.0 in /opt/homebrew/lib/python3.9/site-packages (from spacy) (0.4.0)\n",
      "Requirement already satisfied: tqdm<5.0.0,>=4.38.0 in /opt/homebrew/lib/python3.9/site-packages (from spacy) (4.62.3)\n",
      "Requirement already satisfied: thinc<8.1.0,>=8.0.12 in /opt/homebrew/lib/python3.9/site-packages (from spacy) (8.0.13)\n",
      "Requirement already satisfied: spacy-loggers<2.0.0,>=1.0.0 in /opt/homebrew/lib/python3.9/site-packages (from spacy) (1.0.1)\n",
      "Requirement already satisfied: spacy-legacy<3.1.0,>=3.0.8 in /opt/homebrew/lib/python3.9/site-packages (from spacy) (3.0.8)\n",
      "Requirement already satisfied: pyparsing!=3.0.5,>=2.0.2 in /opt/homebrew/lib/python3.9/site-packages (from packaging>=20.0->spacy) (3.0.7)\n",
      "Requirement already satisfied: smart-open<6.0.0,>=5.0.0 in /opt/homebrew/lib/python3.9/site-packages (from pathy>=0.3.5->spacy) (5.2.1)\n",
      "Requirement already satisfied: typing-extensions>=3.7.4.3 in /opt/homebrew/lib/python3.9/site-packages (from pydantic!=1.8,!=1.8.1,<1.9.0,>=1.7.4->spacy) (4.1.1)\n",
      "Requirement already satisfied: charset-normalizer~=2.0.0 in /opt/homebrew/lib/python3.9/site-packages (from requests<3.0.0,>=2.13.0->spacy) (2.0.12)\n",
      "Requirement already satisfied: urllib3<1.27,>=1.21.1 in /opt/homebrew/lib/python3.9/site-packages (from requests<3.0.0,>=2.13.0->spacy) (1.26.8)\n",
      "Requirement already satisfied: certifi>=2017.4.17 in /opt/homebrew/lib/python3.9/site-packages (from requests<3.0.0,>=2.13.0->spacy) (2021.10.8)\n",
      "Requirement already satisfied: idna<4,>=2.5 in /opt/homebrew/lib/python3.9/site-packages (from requests<3.0.0,>=2.13.0->spacy) (3.3)\n",
      "Requirement already satisfied: click<9.0.0,>=7.1.1 in /opt/homebrew/lib/python3.9/site-packages (from typer<0.5.0,>=0.3.0->spacy) (8.0.4)\n",
      "Requirement already satisfied: MarkupSafe>=2.0 in /opt/homebrew/lib/python3.9/site-packages (from jinja2->spacy) (2.1.0)\n",
      "\u001b[33mDEPRECATION: Configuring installation scheme with distutils config files is deprecated and will no longer work in the near future. If you are using a Homebrew or Linuxbrew Python, please see discussion at https://github.com/Homebrew/homebrew-core/issues/76621\u001b[0m\u001b[33m\n",
      "\u001b[0m"
     ]
    }
   ],
   "source": [
    "!pip3 install -U spacy"
   ]
  },
  {
   "cell_type": "code",
   "execution_count": 5,
   "id": "e7a19ef7",
   "metadata": {},
   "outputs": [
    {
     "name": "stdout",
     "output_type": "stream",
     "text": [
      "\u001b[33mDEPRECATION: Configuring installation scheme with distutils config files is deprecated and will no longer work in the near future. If you are using a Homebrew or Linuxbrew Python, please see discussion at https://github.com/Homebrew/homebrew-core/issues/76621\u001b[0m\u001b[33m\n",
      "\u001b[0mCollecting en-core-web-sm==3.2.0\n",
      "  Downloading https://github.com/explosion/spacy-models/releases/download/en_core_web_sm-3.2.0/en_core_web_sm-3.2.0-py3-none-any.whl (13.9 MB)\n",
      "\u001b[2K     \u001b[38;2;114;156;31m━━━━━━━━━━━━━━━━━━━━━━━━━━━━━━━━━━━━━━━━\u001b[0m \u001b[32m13.9/13.9 MB\u001b[0m \u001b[31m17.5 MB/s\u001b[0m eta \u001b[36m0:00:00\u001b[0mm eta \u001b[36m0:00:01\u001b[0m[36m0:00:01\u001b[0m\n",
      "\u001b[?25hRequirement already satisfied: spacy<3.3.0,>=3.2.0 in /opt/homebrew/lib/python3.9/site-packages (from en-core-web-sm==3.2.0) (3.2.2)\n",
      "Requirement already satisfied: murmurhash<1.1.0,>=0.28.0 in /opt/homebrew/lib/python3.9/site-packages (from spacy<3.3.0,>=3.2.0->en-core-web-sm==3.2.0) (1.0.6)\n",
      "Requirement already satisfied: cymem<2.1.0,>=2.0.2 in /opt/homebrew/lib/python3.9/site-packages (from spacy<3.3.0,>=3.2.0->en-core-web-sm==3.2.0) (2.0.6)\n",
      "Requirement already satisfied: pydantic!=1.8,!=1.8.1,<1.9.0,>=1.7.4 in /opt/homebrew/lib/python3.9/site-packages (from spacy<3.3.0,>=3.2.0->en-core-web-sm==3.2.0) (1.8.2)\n",
      "Requirement already satisfied: numpy>=1.15.0 in /opt/homebrew/lib/python3.9/site-packages (from spacy<3.3.0,>=3.2.0->en-core-web-sm==3.2.0) (1.22.2)\n",
      "Requirement already satisfied: tqdm<5.0.0,>=4.38.0 in /opt/homebrew/lib/python3.9/site-packages (from spacy<3.3.0,>=3.2.0->en-core-web-sm==3.2.0) (4.62.3)\n",
      "Requirement already satisfied: wasabi<1.1.0,>=0.8.1 in /opt/homebrew/lib/python3.9/site-packages (from spacy<3.3.0,>=3.2.0->en-core-web-sm==3.2.0) (0.9.0)\n",
      "Requirement already satisfied: typer<0.5.0,>=0.3.0 in /opt/homebrew/lib/python3.9/site-packages (from spacy<3.3.0,>=3.2.0->en-core-web-sm==3.2.0) (0.4.0)\n",
      "Requirement already satisfied: thinc<8.1.0,>=8.0.12 in /opt/homebrew/lib/python3.9/site-packages (from spacy<3.3.0,>=3.2.0->en-core-web-sm==3.2.0) (8.0.13)\n",
      "Requirement already satisfied: setuptools in /opt/homebrew/lib/python3.9/site-packages (from spacy<3.3.0,>=3.2.0->en-core-web-sm==3.2.0) (60.5.0)\n",
      "Requirement already satisfied: preshed<3.1.0,>=3.0.2 in /opt/homebrew/lib/python3.9/site-packages (from spacy<3.3.0,>=3.2.0->en-core-web-sm==3.2.0) (3.0.6)\n",
      "Requirement already satisfied: srsly<3.0.0,>=2.4.1 in /opt/homebrew/lib/python3.9/site-packages (from spacy<3.3.0,>=3.2.0->en-core-web-sm==3.2.0) (2.4.2)\n",
      "Requirement already satisfied: packaging>=20.0 in /opt/homebrew/lib/python3.9/site-packages (from spacy<3.3.0,>=3.2.0->en-core-web-sm==3.2.0) (21.3)\n",
      "Requirement already satisfied: requests<3.0.0,>=2.13.0 in /opt/homebrew/lib/python3.9/site-packages (from spacy<3.3.0,>=3.2.0->en-core-web-sm==3.2.0) (2.27.1)\n",
      "Requirement already satisfied: langcodes<4.0.0,>=3.2.0 in /opt/homebrew/lib/python3.9/site-packages (from spacy<3.3.0,>=3.2.0->en-core-web-sm==3.2.0) (3.3.0)\n",
      "Requirement already satisfied: jinja2 in /opt/homebrew/lib/python3.9/site-packages (from spacy<3.3.0,>=3.2.0->en-core-web-sm==3.2.0) (3.0.3)\n",
      "Requirement already satisfied: spacy-legacy<3.1.0,>=3.0.8 in /opt/homebrew/lib/python3.9/site-packages (from spacy<3.3.0,>=3.2.0->en-core-web-sm==3.2.0) (3.0.8)\n",
      "Requirement already satisfied: pathy>=0.3.5 in /opt/homebrew/lib/python3.9/site-packages (from spacy<3.3.0,>=3.2.0->en-core-web-sm==3.2.0) (0.6.1)\n",
      "Requirement already satisfied: blis<0.8.0,>=0.4.0 in /opt/homebrew/lib/python3.9/site-packages (from spacy<3.3.0,>=3.2.0->en-core-web-sm==3.2.0) (0.7.5)\n",
      "Requirement already satisfied: spacy-loggers<2.0.0,>=1.0.0 in /opt/homebrew/lib/python3.9/site-packages (from spacy<3.3.0,>=3.2.0->en-core-web-sm==3.2.0) (1.0.1)\n",
      "Requirement already satisfied: catalogue<2.1.0,>=2.0.6 in /opt/homebrew/lib/python3.9/site-packages (from spacy<3.3.0,>=3.2.0->en-core-web-sm==3.2.0) (2.0.6)\n",
      "Requirement already satisfied: pyparsing!=3.0.5,>=2.0.2 in /opt/homebrew/lib/python3.9/site-packages (from packaging>=20.0->spacy<3.3.0,>=3.2.0->en-core-web-sm==3.2.0) (3.0.7)\n",
      "Requirement already satisfied: smart-open<6.0.0,>=5.0.0 in /opt/homebrew/lib/python3.9/site-packages (from pathy>=0.3.5->spacy<3.3.0,>=3.2.0->en-core-web-sm==3.2.0) (5.2.1)\n",
      "Requirement already satisfied: typing-extensions>=3.7.4.3 in /opt/homebrew/lib/python3.9/site-packages (from pydantic!=1.8,!=1.8.1,<1.9.0,>=1.7.4->spacy<3.3.0,>=3.2.0->en-core-web-sm==3.2.0) (4.1.1)\n",
      "Requirement already satisfied: charset-normalizer~=2.0.0 in /opt/homebrew/lib/python3.9/site-packages (from requests<3.0.0,>=2.13.0->spacy<3.3.0,>=3.2.0->en-core-web-sm==3.2.0) (2.0.12)\n",
      "Requirement already satisfied: urllib3<1.27,>=1.21.1 in /opt/homebrew/lib/python3.9/site-packages (from requests<3.0.0,>=2.13.0->spacy<3.3.0,>=3.2.0->en-core-web-sm==3.2.0) (1.26.8)\n",
      "Requirement already satisfied: certifi>=2017.4.17 in /opt/homebrew/lib/python3.9/site-packages (from requests<3.0.0,>=2.13.0->spacy<3.3.0,>=3.2.0->en-core-web-sm==3.2.0) (2021.10.8)\n",
      "Requirement already satisfied: idna<4,>=2.5 in /opt/homebrew/lib/python3.9/site-packages (from requests<3.0.0,>=2.13.0->spacy<3.3.0,>=3.2.0->en-core-web-sm==3.2.0) (3.3)\n",
      "Requirement already satisfied: click<9.0.0,>=7.1.1 in /opt/homebrew/lib/python3.9/site-packages (from typer<0.5.0,>=0.3.0->spacy<3.3.0,>=3.2.0->en-core-web-sm==3.2.0) (8.0.4)\n",
      "Requirement already satisfied: MarkupSafe>=2.0 in /opt/homebrew/lib/python3.9/site-packages (from jinja2->spacy<3.3.0,>=3.2.0->en-core-web-sm==3.2.0) (2.1.0)\n",
      "\u001b[33mDEPRECATION: Configuring installation scheme with distutils config files is deprecated and will no longer work in the near future. If you are using a Homebrew or Linuxbrew Python, please see discussion at https://github.com/Homebrew/homebrew-core/issues/76621\u001b[0m\u001b[33m\n",
      "\u001b[0m\u001b[38;5;2m✔ Download and installation successful\u001b[0m\n",
      "You can now load the package via spacy.load('en_core_web_sm')\n"
     ]
    }
   ],
   "source": [
    "!python3 -m spacy download en_core_web_sm"
   ]
  },
  {
   "cell_type": "code",
   "execution_count": 6,
   "id": "01d9906f",
   "metadata": {},
   "outputs": [],
   "source": [
    "import re\n",
    "\n",
    "import spacy\n",
    "import requests\n",
    "import re\n",
    "import IPython\n",
    "from daterangeparser import parse\n",
    "from tqdm import tqdm\n",
    "import pandas as pd \n",
    "import json"
   ]
  },
  {
   "cell_type": "code",
   "execution_count": 7,
   "id": "c2150840",
   "metadata": {},
   "outputs": [],
   "source": [
    "nlp = spacy.load(\"en_core_web_sm\")"
   ]
  },
  {
   "cell_type": "code",
   "execution_count": 8,
   "id": "39bbb8d8",
   "metadata": {},
   "outputs": [],
   "source": [
    "def dep_subtree(token, dep):\n",
    "    deps =[child.dep_ for child in token.children]\n",
    "    child=next(filter(lambda c: c.dep_==dep, token.children), None)\n",
    "    if child != None:\n",
    "        return \" \".join([c.text for c in child.subtree])\n",
    "    else:\n",
    "        return \"\""
   ]
  },
  {
   "cell_type": "code",
   "execution_count": 9,
   "id": "b8689e5d",
   "metadata": {},
   "outputs": [],
   "source": [
    "# to remove citations, e.g. \"[91]\" as this makes problems with spaCy\n",
    "p = re.compile(r'\\[\\d+\\]')\n",
    "\n",
    "def extract_events_spacy(line):\n",
    "    '''Function based on code from https://www.qualicen.de/natural-language-processing-timeline-extraction-with-regexes-and-spacy/\n",
    "    '''\n",
    "\n",
    "    line=p.sub('', line)\n",
    "    events = []\n",
    "    doc = nlp(line)\n",
    "    for ent in filter(lambda e: e.label_=='DATE',doc.ents):\n",
    "        try:\n",
    "            start,end = parse(ent.text)\n",
    "        except:\n",
    "          # could not parse the dates, hence ignore it\n",
    "          continue\n",
    "        current = ent.root\n",
    "        while current.dep_ != \"ROOT\":\n",
    "            current = current.head\n",
    "        desc = \" \".join(filter(None,[\n",
    "                                     dep_subtree(current,\"nsubj\"),\n",
    "                                     dep_subtree(current,\"nsubjpass\"),\n",
    "                                     dep_subtree(current,\"auxpass\"),\n",
    "                                     dep_subtree(current,\"amod\"),\n",
    "                                     dep_subtree(current,\"det\"),\n",
    "                                     current.text, \n",
    "                                     dep_subtree(current,\"acl\"),\n",
    "                                     dep_subtree(current,\"dobj\"),\n",
    "                                     dep_subtree(current,\"attr\"),\n",
    "                                     dep_subtree(current,\"advmod\")]))\n",
    "        events = events + [(start.isoformat(),ent.text,desc)]\n",
    "        events.sort(key=lambda tup: tup[0])\n",
    "    return events"
   ]
  },
  {
   "cell_type": "code",
   "execution_count": 10,
   "id": "42a2167e",
   "metadata": {},
   "outputs": [
    {
     "data": {
      "text/plain": [
       "[('2001-01-01T00:00:00', 'Jan 2001', 'test'),\n",
       " ('2005-05-01T00:00:00', 'May 2005', 'test'),\n",
       " ('2010-12-01T00:00:00', 'Dec 2010', 'test')]"
      ]
     },
     "execution_count": 10,
     "metadata": {},
     "output_type": "execute_result"
    }
   ],
   "source": [
    "extract_events_spacy(\"Jan 2001 test Dec 2010, this that May 2005\")"
   ]
  },
  {
   "cell_type": "code",
   "execution_count": 11,
   "id": "1dc3cb1c",
   "metadata": {},
   "outputs": [],
   "source": [
    "input_json_file = 'data/kym.json'  # Tarmo edited\n",
    "output_json_file = 'data/events_url.json'  # Tarmo edited"
   ]
  },
  {
   "cell_type": "code",
   "execution_count": 12,
   "id": "b38d918f",
   "metadata": {},
   "outputs": [],
   "source": [
    "df = pd.read_json(input_json_file)"
   ]
  },
  {
   "cell_type": "code",
   "execution_count": 13,
   "id": "e92cfcd1",
   "metadata": {},
   "outputs": [],
   "source": [
    "memes  = df[['title', 'url','content']][df['category']=='Meme']"
   ]
  },
  {
   "cell_type": "code",
   "execution_count": 14,
   "id": "ac5b8089",
   "metadata": {},
   "outputs": [
    {
     "name": "stderr",
     "output_type": "stream",
     "text": [
      " 42%|██████████████████████████▏                                    | 6403/15406 [13:20<18:46,  7.99it/s]\n"
     ]
    },
    {
     "ename": "KeyboardInterrupt",
     "evalue": "",
     "output_type": "error",
     "traceback": [
      "\u001b[0;31m---------------------------------------------------------------------------\u001b[0m",
      "\u001b[0;31mKeyboardInterrupt\u001b[0m                         Traceback (most recent call last)",
      "Input \u001b[0;32mIn [14]\u001b[0m, in \u001b[0;36m<module>\u001b[0;34m\u001b[0m\n\u001b[1;32m     17\u001b[0m     \u001b[38;5;28;01mexcept\u001b[39;00m:\n\u001b[1;32m     18\u001b[0m         spread \u001b[38;5;241m=\u001b[39m \u001b[38;5;124m\"\u001b[39m\u001b[38;5;124m \u001b[39m\u001b[38;5;124m\"\u001b[39m\n\u001b[0;32m---> 20\u001b[0m meme \u001b[38;5;241m=\u001b[39m {\u001b[38;5;124m\"\u001b[39m\u001b[38;5;124mtitle\u001b[39m\u001b[38;5;124m\"\u001b[39m:title,\u001b[38;5;124m\"\u001b[39m\u001b[38;5;124morigin\u001b[39m\u001b[38;5;124m\"\u001b[39m:extract_events_spacy(origin),\u001b[38;5;124m\"\u001b[39m\u001b[38;5;124mspread\u001b[39m\u001b[38;5;124m\"\u001b[39m: \u001b[43mextract_events_spacy\u001b[49m\u001b[43m(\u001b[49m\u001b[43mspread\u001b[49m\u001b[43m)\u001b[49m }\n\u001b[1;32m     21\u001b[0m out\u001b[38;5;241m.\u001b[39mappend(meme)\n",
      "Input \u001b[0;32mIn [9]\u001b[0m, in \u001b[0;36mextract_events_spacy\u001b[0;34m(line)\u001b[0m\n\u001b[1;32m     16\u001b[0m   \u001b[38;5;28;01mcontinue\u001b[39;00m\n\u001b[1;32m     17\u001b[0m current \u001b[38;5;241m=\u001b[39m ent\u001b[38;5;241m.\u001b[39mroot\n\u001b[0;32m---> 18\u001b[0m \u001b[38;5;28;01mwhile\u001b[39;00m \u001b[43mcurrent\u001b[49m\u001b[38;5;241;43m.\u001b[39;49m\u001b[43mdep_\u001b[49m \u001b[38;5;241m!=\u001b[39m \u001b[38;5;124m\"\u001b[39m\u001b[38;5;124mROOT\u001b[39m\u001b[38;5;124m\"\u001b[39m:\n\u001b[1;32m     19\u001b[0m     current \u001b[38;5;241m=\u001b[39m current\u001b[38;5;241m.\u001b[39mhead\n\u001b[1;32m     20\u001b[0m desc \u001b[38;5;241m=\u001b[39m \u001b[38;5;124m\"\u001b[39m\u001b[38;5;124m \u001b[39m\u001b[38;5;124m\"\u001b[39m\u001b[38;5;241m.\u001b[39mjoin(\u001b[38;5;28mfilter\u001b[39m(\u001b[38;5;28;01mNone\u001b[39;00m,[\n\u001b[1;32m     21\u001b[0m                              dep_subtree(current,\u001b[38;5;124m\"\u001b[39m\u001b[38;5;124mnsubj\u001b[39m\u001b[38;5;124m\"\u001b[39m),\n\u001b[1;32m     22\u001b[0m                              dep_subtree(current,\u001b[38;5;124m\"\u001b[39m\u001b[38;5;124mnsubjpass\u001b[39m\u001b[38;5;124m\"\u001b[39m),\n\u001b[0;32m   (...)\u001b[0m\n\u001b[1;32m     29\u001b[0m                              dep_subtree(current,\u001b[38;5;124m\"\u001b[39m\u001b[38;5;124mattr\u001b[39m\u001b[38;5;124m\"\u001b[39m),\n\u001b[1;32m     30\u001b[0m                              dep_subtree(current,\u001b[38;5;124m\"\u001b[39m\u001b[38;5;124madvmod\u001b[39m\u001b[38;5;124m\"\u001b[39m)]))\n",
      "\u001b[0;31mKeyboardInterrupt\u001b[0m: "
     ]
    }
   ],
   "source": [
    "c = 0\n",
    "l = 0\n",
    "out = []\n",
    "for i in tqdm(range(len(memes))):\n",
    "    title = memes.title.iloc[i]\n",
    "    # url = memes.url.iloc[i]  # Tarmo added\n",
    "    origin = \"\"\n",
    "    spread = \"\"\n",
    "    \n",
    "    if len(list(memes['content'].iloc[i].keys()))>0:\n",
    "        try:\n",
    "            origin = \" \".join(memes['content'].iloc[i][\"origin\"][\"text\"])\n",
    "        except:\n",
    "            origin = \" \"\n",
    "        try:\n",
    "            spread = \" \".join(memes['content'].iloc[i][\"spread\"][\"text\"])\n",
    "        except:\n",
    "            spread = \" \"\n",
    "\n",
    "    meme = {\"title\":title,\"origin\":extract_events_spacy(origin),\"spread\": extract_events_spacy(spread) }\n",
    "    out.append(meme)"
   ]
  },
  {
   "cell_type": "code",
   "execution_count": null,
   "id": "a74608b4",
   "metadata": {},
   "outputs": [],
   "source": []
  },
  {
   "cell_type": "code",
   "execution_count": null,
   "id": "68194c50",
   "metadata": {},
   "outputs": [],
   "source": [
    "'''\n",
    "out = [\n",
    "\n",
    "{\"title\": Meme Title,\n",
    "\"origin\": `list` of events in origin text,\n",
    "\"spread\": `list` of events in spread text}\n",
    "\n",
    "...\n",
    "]\n",
    "\n",
    "\n",
    "'''"
   ]
  },
  {
   "cell_type": "code",
   "execution_count": null,
   "id": "75029cad",
   "metadata": {},
   "outputs": [],
   "source": [
    "with open(output_json_file, 'w') as fout:\n",
    "    json.dump(out, fout)"
   ]
  },
  {
   "cell_type": "code",
   "execution_count": null,
   "id": "09519ad1",
   "metadata": {},
   "outputs": [],
   "source": []
  }
 ],
 "metadata": {
  "kernelspec": {
   "display_name": "Python 3 (ipykernel)",
   "language": "python",
   "name": "python3"
  },
  "language_info": {
   "codemirror_mode": {
    "name": "ipython",
    "version": 3
   },
   "file_extension": ".py",
   "mimetype": "text/x-python",
   "name": "python",
   "nbconvert_exporter": "python",
   "pygments_lexer": "ipython3",
   "version": "3.9.10"
  }
 },
 "nbformat": 4,
 "nbformat_minor": 5
}
