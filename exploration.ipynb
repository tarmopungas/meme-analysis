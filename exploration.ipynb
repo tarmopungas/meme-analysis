{
 "cells": [
  {
   "cell_type": "code",
   "execution_count": 2,
   "id": "6e32ee5a-8684-4d61-851d-9e6509dba997",
   "metadata": {},
   "outputs": [],
   "source": [
    "# Import data\n",
    "import pandas as pd\n",
    "import numpy as np\n",
    "\n",
    "# To show all data in dataframe\n",
    "pd.set_option('display.max_colwidth', None)\n",
    "\n",
    "raw = pd.read_json(\"data/kym.json\")                   # 28799 meme templates from Know Your Meme, 16 features\n",
    "events = pd.read_json(\"data/events.json\")"
   ]
  },
  {
   "cell_type": "code",
   "execution_count": 4,
   "id": "24972552-e881-4949-82f7-76122ccfbdc5",
   "metadata": {},
   "outputs": [],
   "source": [
    "memes = raw[raw['category'] == \"Meme\"] # Selecting only memes"
   ]
  },
  {
   "cell_type": "code",
   "execution_count": 1,
   "id": "81ba312c-fb0e-4021-8701-9c8a97e9fd50",
   "metadata": {},
   "outputs": [
    {
     "ename": "NameError",
     "evalue": "name 'memes' is not defined",
     "output_type": "error",
     "traceback": [
      "\u001b[0;31m---------------------------------------------------------------------------\u001b[0m",
      "\u001b[0;31mNameError\u001b[0m                                 Traceback (most recent call last)",
      "Input \u001b[0;32mIn [1]\u001b[0m, in \u001b[0;36m<module>\u001b[0;34m\u001b[0m\n\u001b[1;32m      1\u001b[0m \u001b[38;5;66;03m# Look for Imgflip references                  \u001b[39;00m\n\u001b[1;32m      2\u001b[0m imgflip \u001b[38;5;241m=\u001b[39m {}\n\u001b[0;32m----> 3\u001b[0m \u001b[38;5;28;01mfor\u001b[39;00m title, d \u001b[38;5;129;01min\u001b[39;00m \u001b[38;5;28mzip\u001b[39m(\u001b[43mmemes\u001b[49m[\u001b[38;5;124m'\u001b[39m\u001b[38;5;124mtitle\u001b[39m\u001b[38;5;124m'\u001b[39m], memes[\u001b[38;5;124m'\u001b[39m\u001b[38;5;124madditional_references\u001b[39m\u001b[38;5;124m'\u001b[39m]):\n\u001b[1;32m      4\u001b[0m     \u001b[38;5;28;01mfor\u001b[39;00m val \u001b[38;5;129;01min\u001b[39;00m d\u001b[38;5;241m.\u001b[39mvalues():\n\u001b[1;32m      5\u001b[0m         \u001b[38;5;28;01mif\u001b[39;00m \u001b[38;5;124m\"\u001b[39m\u001b[38;5;124mimgflip\u001b[39m\u001b[38;5;124m\"\u001b[39m \u001b[38;5;129;01min\u001b[39;00m val:\n",
      "\u001b[0;31mNameError\u001b[0m: name 'memes' is not defined"
     ]
    }
   ],
   "source": [
    "# Look for Imgflip references                  \n",
    "imgflip = {}\n",
    "for title, d in zip(memes['title'], memes['additional_references']):\n",
    "    for val in d.values():\n",
    "        if \"imgflip\" in val:\n",
    "            imgflip[title] = val\n",
    "            \n",
    "# print(imgflip)"
   ]
  },
  {
   "cell_type": "code",
   "execution_count": 1,
   "id": "b640b29b-4b50-4529-9719-544bdda15667",
   "metadata": {},
   "outputs": [
    {
     "name": "stdout",
     "output_type": "stream",
     "text": [
      "Collecting pandasql\n",
      "  Using cached pandasql-0.7.3-py3-none-any.whl\n",
      "Collecting sqlalchemy\n",
      "  Downloading SQLAlchemy-1.4.32.tar.gz (8.1 MB)\n",
      "\u001b[2K     \u001b[38;2;114;156;31m━━━━━━━━━━━━━━━━━━━━━━━━━━━━━━━━━━━━━━━━\u001b[0m \u001b[32m8.1/8.1 MB\u001b[0m \u001b[31m15.4 MB/s\u001b[0m eta \u001b[36m0:00:00\u001b[0mm eta \u001b[36m0:00:01\u001b[0m0:01\u001b[0m:01\u001b[0m\n",
      "\u001b[?25h  Preparing metadata (setup.py) ... \u001b[?25ldone\n",
      "\u001b[?25hRequirement already satisfied: numpy in /Users/tarmopungas/miniforge3/lib/python3.9/site-packages (from pandasql) (1.22.3)\n",
      "Collecting pandas\n",
      "  Using cached pandas-1.4.1-cp39-cp39-macosx_11_0_arm64.whl (10.5 MB)\n",
      "Collecting pytz>=2020.1\n",
      "  Using cached pytz-2021.3-py2.py3-none-any.whl (503 kB)\n",
      "Requirement already satisfied: python-dateutil>=2.8.1 in /Users/tarmopungas/miniforge3/lib/python3.9/site-packages (from pandas->pandasql) (2.8.2)\n",
      "Requirement already satisfied: six>=1.5 in /Users/tarmopungas/miniforge3/lib/python3.9/site-packages (from python-dateutil>=2.8.1->pandas->pandasql) (1.16.0)\n",
      "Building wheels for collected packages: sqlalchemy\n",
      "  Building wheel for sqlalchemy (setup.py) ... \u001b[?25ldone\n",
      "\u001b[?25h  Created wheel for sqlalchemy: filename=SQLAlchemy-1.4.32-cp39-cp39-macosx_11_0_arm64.whl size=1535142 sha256=333653513af743b5d56ad1e1e7aff4c08b220c85cce271114a87fb4aae05c2f5\n",
      "  Stored in directory: /Users/tarmopungas/Library/Caches/pip/wheels/f2/19/ac/766f9aa177238819a3fb79100dd2f7d9a348a6a082014afca2\n",
      "Successfully built sqlalchemy\n",
      "Installing collected packages: pytz, sqlalchemy, pandas, pandasql\n",
      "Successfully installed pandas-1.4.1 pandasql-0.7.3 pytz-2021.3 sqlalchemy-1.4.32\n"
     ]
    },
    {
     "ename": "NameError",
     "evalue": "name 'memes' is not defined",
     "output_type": "error",
     "traceback": [
      "\u001b[0;31m---------------------------------------------------------------------------\u001b[0m",
      "\u001b[0;31mNameError\u001b[0m                                 Traceback (most recent call last)",
      "Input \u001b[0;32mIn [1]\u001b[0m, in \u001b[0;36m<module>\u001b[0;34m\u001b[0m\n\u001b[1;32m      6\u001b[0m type_col \u001b[38;5;241m=\u001b[39m []\n\u001b[1;32m      7\u001b[0m \u001b[38;5;66;03m# Add separate column for type\u001b[39;00m\n\u001b[0;32m----> 8\u001b[0m \u001b[38;5;28;01mfor\u001b[39;00m d \u001b[38;5;129;01min\u001b[39;00m \u001b[43mmemes\u001b[49m[\u001b[38;5;124m'\u001b[39m\u001b[38;5;124mdetails\u001b[39m\u001b[38;5;124m'\u001b[39m]:\n\u001b[1;32m      9\u001b[0m     \u001b[38;5;28;01mif\u001b[39;00m \u001b[38;5;124m'\u001b[39m\u001b[38;5;124mtype\u001b[39m\u001b[38;5;124m'\u001b[39m \u001b[38;5;129;01min\u001b[39;00m d\u001b[38;5;241m.\u001b[39mkeys():\n\u001b[1;32m     10\u001b[0m         t_list \u001b[38;5;241m=\u001b[39m [t\u001b[38;5;241m.\u001b[39msplit(\u001b[38;5;124m\"\u001b[39m\u001b[38;5;124mhttps://knowyourmeme.com/types/\u001b[39m\u001b[38;5;124m\"\u001b[39m)[\u001b[38;5;241m1\u001b[39m] \u001b[38;5;28;01mfor\u001b[39;00m t \u001b[38;5;129;01min\u001b[39;00m d[\u001b[38;5;124m'\u001b[39m\u001b[38;5;124mtype\u001b[39m\u001b[38;5;124m'\u001b[39m]]\n",
      "\u001b[0;31mNameError\u001b[0m: name 'memes' is not defined"
     ]
    }
   ],
   "source": [
    "# Use pandasql to query data with SQL commands\n",
    "\n",
    "!pip3 install -U pandasql\n",
    "from pandasql import sqldf \n",
    "\n",
    "type_col = []\n",
    "# Add separate column for type\n",
    "for d in memes['details']:\n",
    "    if 'type' in d.keys():\n",
    "        t_list = [t.split(\"https://knowyourmeme.com/types/\")[1] for t in d['type']]\n",
    "        # type_col.append(t_list)\n",
    "        type_col.append(\", \".join(t_list))\n",
    "    else:\n",
    "        # type_col.append([])\n",
    "        type_col.append(\"\")\n",
    "memes['type'] = type_col\n",
    "\n",
    "# Select rows based on AND/OR query\n",
    "mysql = lambda q: sqldf(q, globals())\n",
    "test = memes[['type']]\n",
    "mysql(\"SELECT * FROM test WHERE type LIKE '%snowclone%' AND type LIKE '%image-macro%' OR type LIKE '%cliche%';\")"
   ]
  },
  {
   "cell_type": "code",
   "execution_count": 1,
   "id": "2e538ac3-91a4-4c26-ac95-5e3f437c0ca5",
   "metadata": {},
   "outputs": [
    {
     "ename": "NameError",
     "evalue": "name 'raw' is not defined",
     "output_type": "error",
     "traceback": [
      "\u001b[0;31m---------------------------------------------------------------------------\u001b[0m",
      "\u001b[0;31mNameError\u001b[0m                                 Traceback (most recent call last)",
      "Input \u001b[0;32mIn [1]\u001b[0m, in \u001b[0;36m<module>\u001b[0;34m\u001b[0m\n\u001b[1;32m      1\u001b[0m \u001b[38;5;66;03m# Siblings are weird\u001b[39;00m\n\u001b[1;32m      3\u001b[0m c \u001b[38;5;241m=\u001b[39m \u001b[38;5;241m0\u001b[39m\n\u001b[0;32m----> 4\u001b[0m \u001b[38;5;28;01mfor\u001b[39;00m title, url, sib \u001b[38;5;129;01min\u001b[39;00m \u001b[38;5;28mzip\u001b[39m(\u001b[43mraw\u001b[49m[\u001b[38;5;124m'\u001b[39m\u001b[38;5;124mtitle\u001b[39m\u001b[38;5;124m'\u001b[39m], raw[\u001b[38;5;124m'\u001b[39m\u001b[38;5;124murl\u001b[39m\u001b[38;5;124m'\u001b[39m], raw[\u001b[38;5;124m'\u001b[39m\u001b[38;5;124msiblings\u001b[39m\u001b[38;5;124m'\u001b[39m]):\n\u001b[1;32m      5\u001b[0m     \u001b[38;5;28;01mif\u001b[39;00m \u001b[38;5;28mtype\u001b[39m(sib) \u001b[38;5;241m==\u001b[39m \u001b[38;5;28mlist\u001b[39m:\n\u001b[1;32m      6\u001b[0m         \u001b[38;5;28mprint\u001b[39m(title, url, sib)\n",
      "\u001b[0;31mNameError\u001b[0m: name 'raw' is not defined"
     ]
    }
   ],
   "source": [
    "# Siblings are weird\n",
    "\n",
    "c = 0\n",
    "for title, url, sib in zip(raw['title'], raw['url'], raw['siblings']):\n",
    "    if type(sib) == list:\n",
    "        print(title, url, sib)\n",
    "\n",
    "    c += 1\n",
    "    if c == 10:\n",
    "        break"
   ]
  },
  {
   "cell_type": "code",
   "execution_count": 2,
   "id": "0e331393-af49-422e-95b6-6cbe13fa12ef",
   "metadata": {},
   "outputs": [
    {
     "ename": "NameError",
     "evalue": "name 'vision' is not defined",
     "output_type": "error",
     "traceback": [
      "\u001b[0;31m---------------------------------------------------------------------------\u001b[0m",
      "\u001b[0;31mNameError\u001b[0m                                 Traceback (most recent call last)",
      "Input \u001b[0;32mIn [2]\u001b[0m, in \u001b[0;36m<module>\u001b[0;34m\u001b[0m\n\u001b[1;32m      1\u001b[0m \u001b[38;5;66;03m# Web entity detection in Google's Vision AI data\u001b[39;00m\n\u001b[0;32m----> 2\u001b[0m \u001b[43mvision\u001b[49m\u001b[38;5;241m.\u001b[39mhead()\n\u001b[1;32m      4\u001b[0m c \u001b[38;5;241m=\u001b[39m \u001b[38;5;241m0\u001b[39m\n\u001b[1;32m      5\u001b[0m \u001b[38;5;28mprint\u001b[39m(instances\u001b[38;5;241m.\u001b[39mkeys())\n",
      "\u001b[0;31mNameError\u001b[0m: name 'vision' is not defined"
     ]
    }
   ],
   "source": [
    "# Web entity detection in Google's Vision AI data\n",
    "vision.head()\n",
    "\n",
    "c = 0\n",
    "print(instances.keys())\n",
    "print()\n",
    "for instances in vision['webDetection']:\n",
    "    if 'partialMatchingImages' in instances:\n",
    "        print(instances['partialMatchingImages'])\n",
    "    print()\n",
    "    #print(instances['webEntities'])\n",
    "\n",
    "    c += 1\n",
    "    if c == 20:\n",
    "        break"
   ]
  },
  {
   "cell_type": "markdown",
   "id": "e23f9751-4614-4934-a18e-e9d832e7456d",
   "metadata": {},
   "source": [
    "# Visualizations"
   ]
  },
  {
   "cell_type": "code",
   "execution_count": null,
   "id": "b88781a5-1c91-44df-bd2d-49d872874767",
   "metadata": {},
   "outputs": [],
   "source": [
    "# "
   ]
  }
 ],
 "metadata": {
  "kernelspec": {
   "display_name": "Python 3 (ipykernel)",
   "language": "python",
   "name": "python3"
  },
  "language_info": {
   "codemirror_mode": {
    "name": "ipython",
    "version": 3
   },
   "file_extension": ".py",
   "mimetype": "text/x-python",
   "name": "python",
   "nbconvert_exporter": "python",
   "pygments_lexer": "ipython3",
   "version": "3.9.10"
  }
 },
 "nbformat": 4,
 "nbformat_minor": 5
}
