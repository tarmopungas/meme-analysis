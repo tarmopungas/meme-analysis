{
 "cells": [
  {
   "cell_type": "code",
   "execution_count": 3,
   "id": "6e32ee5a-8684-4d61-851d-9e6509dba997",
   "metadata": {},
   "outputs": [],
   "source": [
    "# Import data\n",
    "import pandas as pd\n",
    "import numpy as np\n",
    "\n",
    "# To show all data in dataframe\n",
    "pd.set_option('display.max_colwidth', None)\n",
    "\n",
    "raw = pd.read_json(\"data/kym.json\")                   # 28799 meme templates from Know Your Meme, 16 features\n",
    "events = pd.read_json(\"data/events.json\")"
   ]
  },
  {
   "cell_type": "code",
   "execution_count": 1,
   "id": "24972552-e881-4949-82f7-76122ccfbdc5",
   "metadata": {},
   "outputs": [
    {
     "ename": "NameError",
     "evalue": "name 'raw' is not defined",
     "output_type": "error",
     "traceback": [
      "\u001b[0;31m---------------------------------------------------------------------------\u001b[0m",
      "\u001b[0;31mNameError\u001b[0m                                 Traceback (most recent call last)",
      "Input \u001b[0;32mIn [1]\u001b[0m, in \u001b[0;36m<module>\u001b[0;34m\u001b[0m\n\u001b[0;32m----> 1\u001b[0m memes \u001b[38;5;241m=\u001b[39m \u001b[43mraw\u001b[49m[raw[\u001b[38;5;124m'\u001b[39m\u001b[38;5;124mcategory\u001b[39m\u001b[38;5;124m'\u001b[39m] \u001b[38;5;241m==\u001b[39m \u001b[38;5;124m\"\u001b[39m\u001b[38;5;124mMeme\u001b[39m\u001b[38;5;124m\"\u001b[39m]\n",
      "\u001b[0;31mNameError\u001b[0m: name 'raw' is not defined"
     ]
    }
   ],
   "source": [
    "memes = raw[raw['category'] == \"Meme\"] # Selecting only memes"
   ]
  },
  {
   "cell_type": "code",
   "execution_count": null,
   "id": "b640b29b-4b50-4529-9719-544bdda15667",
   "metadata": {},
   "outputs": [],
   "source": [
    "# Use pandasql to query data with SQL commands\n",
    "\n",
    "!pip3 install -U pandasql\n",
    "from pandasql import sqldf \n",
    "\n",
    "type_col = []\n",
    "# Add separate column for type\n",
    "for d in memes['details']:\n",
    "    if 'type' in d.keys():\n",
    "        t_list = [t.split(\"https://knowyourmeme.com/types/\")[1] for t in d['type']]\n",
    "        # type_col.append(t_list)\n",
    "        type_col.append(\", \".join(t_list))\n",
    "    else:\n",
    "        # type_col.append([])\n",
    "        type_col.append(\"\")\n",
    "memes['type'] = type_col\n",
    "\n",
    "# Select rows based on AND/OR query\n",
    "mysql = lambda q: sqldf(q, globals())\n",
    "test = memes[['type']]\n",
    "mysql(\"SELECT * FROM test WHERE type LIKE '%snowclone%' AND type LIKE '%image-macro%' OR type LIKE '%cliche%';\")"
   ]
  },
  {
   "cell_type": "code",
   "execution_count": 1,
   "id": "2e538ac3-91a4-4c26-ac95-5e3f437c0ca5",
   "metadata": {},
   "outputs": [
    {
     "ename": "NameError",
     "evalue": "name 'raw' is not defined",
     "output_type": "error",
     "traceback": [
      "\u001b[0;31m---------------------------------------------------------------------------\u001b[0m",
      "\u001b[0;31mNameError\u001b[0m                                 Traceback (most recent call last)",
      "Input \u001b[0;32mIn [1]\u001b[0m, in \u001b[0;36m<module>\u001b[0;34m\u001b[0m\n\u001b[1;32m      1\u001b[0m \u001b[38;5;66;03m# Siblings are weird\u001b[39;00m\n\u001b[1;32m      3\u001b[0m c \u001b[38;5;241m=\u001b[39m \u001b[38;5;241m0\u001b[39m\n\u001b[0;32m----> 4\u001b[0m \u001b[38;5;28;01mfor\u001b[39;00m title, url, sib \u001b[38;5;129;01min\u001b[39;00m \u001b[38;5;28mzip\u001b[39m(\u001b[43mraw\u001b[49m[\u001b[38;5;124m'\u001b[39m\u001b[38;5;124mtitle\u001b[39m\u001b[38;5;124m'\u001b[39m], raw[\u001b[38;5;124m'\u001b[39m\u001b[38;5;124murl\u001b[39m\u001b[38;5;124m'\u001b[39m], raw[\u001b[38;5;124m'\u001b[39m\u001b[38;5;124msiblings\u001b[39m\u001b[38;5;124m'\u001b[39m]):\n\u001b[1;32m      5\u001b[0m     \u001b[38;5;28;01mif\u001b[39;00m \u001b[38;5;28mtype\u001b[39m(sib) \u001b[38;5;241m==\u001b[39m \u001b[38;5;28mlist\u001b[39m:\n\u001b[1;32m      6\u001b[0m         \u001b[38;5;28mprint\u001b[39m(title, url, sib)\n",
      "\u001b[0;31mNameError\u001b[0m: name 'raw' is not defined"
     ]
    }
   ],
   "source": [
    "# Siblings are weird\n",
    "\n",
    "c = 0\n",
    "for title, url, sib in zip(raw['title'], raw['url'], raw['siblings']):\n",
    "    if type(sib) == list:\n",
    "        print(title, url, sib)\n",
    "\n",
    "    c += 1\n",
    "    if c == 10:\n",
    "        break"
   ]
  },
  {
   "cell_type": "code",
   "execution_count": null,
   "id": "0e331393-af49-422e-95b6-6cbe13fa12ef",
   "metadata": {},
   "outputs": [],
   "source": [
    "# Web entity detection in Google's Vision AI data\n",
    "vision.head()\n",
    "\n",
    "c = 0\n",
    "print(instances.keys())\n",
    "print()\n",
    "for instances in vision['webDetection']:\n",
    "    if 'partialMatchingImages' in instances:\n",
    "        print(instances['partialMatchingImages'])\n",
    "    print()\n",
    "    #print(instances['webEntities'])\n",
    "\n",
    "    c += 1\n",
    "    if c == 20:\n",
    "        break"
   ]
  }
 ],
 "metadata": {
  "kernelspec": {
   "display_name": "Python 3 (ipykernel)",
   "language": "python",
   "name": "python3"
  },
  "language_info": {
   "codemirror_mode": {
    "name": "ipython",
    "version": 3
   },
   "file_extension": ".py",
   "mimetype": "text/x-python",
   "name": "python",
   "nbconvert_exporter": "python",
   "pygments_lexer": "ipython3",
   "version": "3.9.10"
  }
 },
 "nbformat": 4,
 "nbformat_minor": 5
}
