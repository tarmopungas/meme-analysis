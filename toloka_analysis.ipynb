{
 "cells": [
  {
   "cell_type": "markdown",
   "id": "9caffdcf-f59f-459b-8146-2cc22a8e62d7",
   "metadata": {},
   "source": [
    "# Analysis of results from Toloka survey"
   ]
  },
  {
   "cell_type": "code",
   "execution_count": 117,
   "id": "b7d88a07-39a9-46ad-b8d8-0fa14aeb3dbb",
   "metadata": {},
   "outputs": [
    {
     "name": "stdout",
     "output_type": "stream",
     "text": [
      "\u001b[33mDEPRECATION: Configuring installation scheme with distutils config files is deprecated and will no longer work in the near future. If you are using a Homebrew or Linuxbrew Python, please see discussion at https://github.com/Homebrew/homebrew-core/issues/76621\u001b[0m\u001b[33m\n",
      "\u001b[0mRequirement already satisfied: python-Levenshtein in /opt/homebrew/lib/python3.9/site-packages (0.12.2)\n",
      "Requirement already satisfied: setuptools in /opt/homebrew/lib/python3.9/site-packages (from python-Levenshtein) (60.10.0)\n",
      "\u001b[33mDEPRECATION: Configuring installation scheme with distutils config files is deprecated and will no longer work in the near future. If you are using a Homebrew or Linuxbrew Python, please see discussion at https://github.com/Homebrew/homebrew-core/issues/76621\u001b[0m\u001b[33m\n",
      "\u001b[0m"
     ]
    }
   ],
   "source": [
    "# Imports and installs\n",
    "!pip3 install python-Levenshtein\n",
    "import pandas as pd\n",
    "import numpy as np \n",
    "import datetime\n",
    "import json\n",
    "import Levenshtein\n",
    "\n",
    "# raw = pd.read_json(\"data/kym.json\")        # meme templates from Know Your Meme, 16 features\n",
    "# events = pd.read_json(\"data/events.json\")  # memes with timestamps from origin and spread\n",
    "\n",
    "# Q1: Have you used this meme before?\n",
    "# Q2: Have you seen others use this meme?\n",
    "# Q3: Do you relate to this meme?"
   ]
  },
  {
   "cell_type": "markdown",
   "id": "53c63b88-b12d-4ed8-8592-49c80757287c",
   "metadata": {},
   "source": [
    "### Select relevant columns and clean data"
   ]
  },
  {
   "cell_type": "code",
   "execution_count": 101,
   "id": "a7511383-40ce-4707-b469-5b3609b963d5",
   "metadata": {},
   "outputs": [
    {
     "data": {
      "text/html": [
       "<div>\n",
       "<style scoped>\n",
       "    .dataframe tbody tr th:only-of-type {\n",
       "        vertical-align: middle;\n",
       "    }\n",
       "\n",
       "    .dataframe tbody tr th {\n",
       "        vertical-align: top;\n",
       "    }\n",
       "\n",
       "    .dataframe thead th {\n",
       "        text-align: right;\n",
       "    }\n",
       "</style>\n",
       "<table border=\"1\" class=\"dataframe\">\n",
       "  <thead>\n",
       "    <tr style=\"text-align: right;\">\n",
       "      <th></th>\n",
       "      <th>INPUT:input</th>\n",
       "      <th>INPUT:memelink</th>\n",
       "      <th>OUTPUT:q1</th>\n",
       "      <th>OUTPUT:q2</th>\n",
       "      <th>OUTPUT:q3</th>\n",
       "      <th>OUTPUT:result</th>\n",
       "      <th>OUTPUT:reaction</th>\n",
       "      <th>OUTPUT:snowclone</th>\n",
       "      <th>OUTPUT:exploitable</th>\n",
       "      <th>minutes_taken</th>\n",
       "    </tr>\n",
       "  </thead>\n",
       "  <tbody>\n",
       "    <tr>\n",
       "      <th>0</th>\n",
       "      <td>Autistic Screeching is an exploitable comic se...</td>\n",
       "      <td>https://knowyourmeme.com/memes/autistic-screec...</td>\n",
       "      <td>False</td>\n",
       "      <td>False</td>\n",
       "      <td>False</td>\n",
       "      <td>{'Title': ['Autistic Screeching', '\"autistic s...</td>\n",
       "      <td>False</td>\n",
       "      <td>True</td>\n",
       "      <td>False</td>\n",
       "      <td>8.59</td>\n",
       "    </tr>\n",
       "    <tr>\n",
       "      <th>1</th>\n",
       "      <td>No Items, Fox Only, Final Destination is a cat...</td>\n",
       "      <td>https://knowyourmeme.com/memes/no-items-fox-on...</td>\n",
       "      <td>False</td>\n",
       "      <td>False</td>\n",
       "      <td>False</td>\n",
       "      <td>{'Title': ['No Items, Fox Only, Final Destinat...</td>\n",
       "      <td>True</td>\n",
       "      <td>False</td>\n",
       "      <td>False</td>\n",
       "      <td>5.60</td>\n",
       "    </tr>\n",
       "    <tr>\n",
       "      <th>2</th>\n",
       "      <td>Lie Down / Try Not to Cry / Cry a Lot refers a...</td>\n",
       "      <td>https://knowyourmeme.com/memes/lie-down-try-no...</td>\n",
       "      <td>False</td>\n",
       "      <td>False</td>\n",
       "      <td>False</td>\n",
       "      <td>{'Title': ['Lie Down', 'Try Not to Cry', 'Cry ...</td>\n",
       "      <td>True</td>\n",
       "      <td>False</td>\n",
       "      <td>False</td>\n",
       "      <td>2.71</td>\n",
       "    </tr>\n",
       "    <tr>\n",
       "      <th>3</th>\n",
       "      <td>Autistic Screeching is an exploitable comic se...</td>\n",
       "      <td>https://knowyourmeme.com/memes/autistic-screec...</td>\n",
       "      <td>False</td>\n",
       "      <td>False</td>\n",
       "      <td>False</td>\n",
       "      <td>{'Title': ['Autistic Screeching'], 'Meaning': ...</td>\n",
       "      <td>True</td>\n",
       "      <td>False</td>\n",
       "      <td>False</td>\n",
       "      <td>6.74</td>\n",
       "    </tr>\n",
       "    <tr>\n",
       "      <th>4</th>\n",
       "      <td>Y'all Consider This A Date? refers to a series...</td>\n",
       "      <td>https://knowyourmeme.com/memes/yall-consider-t...</td>\n",
       "      <td>False</td>\n",
       "      <td>False</td>\n",
       "      <td>False</td>\n",
       "      <td>{'Title': ['Y'all Consider This A Date?'], 'Me...</td>\n",
       "      <td>False</td>\n",
       "      <td>False</td>\n",
       "      <td>True</td>\n",
       "      <td>9.53</td>\n",
       "    </tr>\n",
       "  </tbody>\n",
       "</table>\n",
       "</div>"
      ],
      "text/plain": [
       "                                         INPUT:input  \\\n",
       "0  Autistic Screeching is an exploitable comic se...   \n",
       "1  No Items, Fox Only, Final Destination is a cat...   \n",
       "2  Lie Down / Try Not to Cry / Cry a Lot refers a...   \n",
       "3  Autistic Screeching is an exploitable comic se...   \n",
       "4  Y'all Consider This A Date? refers to a series...   \n",
       "\n",
       "                                      INPUT:memelink  OUTPUT:q1  OUTPUT:q2  \\\n",
       "0  https://knowyourmeme.com/memes/autistic-screec...      False      False   \n",
       "1  https://knowyourmeme.com/memes/no-items-fox-on...      False      False   \n",
       "2  https://knowyourmeme.com/memes/lie-down-try-no...      False      False   \n",
       "3  https://knowyourmeme.com/memes/autistic-screec...      False      False   \n",
       "4  https://knowyourmeme.com/memes/yall-consider-t...      False      False   \n",
       "\n",
       "   OUTPUT:q3                                      OUTPUT:result  \\\n",
       "0      False  {'Title': ['Autistic Screeching', '\"autistic s...   \n",
       "1      False  {'Title': ['No Items, Fox Only, Final Destinat...   \n",
       "2      False  {'Title': ['Lie Down', 'Try Not to Cry', 'Cry ...   \n",
       "3      False  {'Title': ['Autistic Screeching'], 'Meaning': ...   \n",
       "4      False  {'Title': ['Y'all Consider This A Date?'], 'Me...   \n",
       "\n",
       "   OUTPUT:reaction  OUTPUT:snowclone  OUTPUT:exploitable  minutes_taken  \n",
       "0            False              True               False           8.59  \n",
       "1             True             False               False           5.60  \n",
       "2             True             False               False           2.71  \n",
       "3             True             False               False           6.74  \n",
       "4            False             False                True           9.53  "
      ]
     },
     "execution_count": 101,
     "metadata": {},
     "output_type": "execute_result"
    }
   ],
   "source": [
    "results = pd.read_csv(\"data/toloka_results.tsv\", sep=\"\\t\")\n",
    "results = results.drop(columns=['INPUT:image', 'OUTPUT:captcha', 'OUTPUT:text_review_mode', 'GOLDEN:q1', 'GOLDEN:q2', 'GOLDEN:q3', 'GOLDEN:result', 'GOLDEN:captcha', 'GOLDEN:reaction', 'GOLDEN:snowclone', 'GOLDEN:exploitable', 'GOLDEN:text_review_mode', 'HINT:text', 'HINT:default_language', 'ASSIGNMENT:link', 'ASSIGNMENT:task_id', 'ASSIGNMENT:assignment_id', 'ASSIGNMENT:worker_id', 'ASSIGNMENT:status'])\n",
    "results['OUTPUT:result'] = results['OUTPUT:result'].apply(lambda x: json.loads(x))\n",
    "\n",
    "# Convert multiple-choice answers to boolean\n",
    "results['OUTPUT:q1'] = results['OUTPUT:q1'].map({'1y': True, '1n': False})\n",
    "results['OUTPUT:q2'] = results['OUTPUT:q2'].map({'2y': True, '2n': False})\n",
    "results['OUTPUT:q3'] = results['OUTPUT:q3'].map({'3y': True, '3n': False})\n",
    "\n",
    "# Calculate time taken per assignment\n",
    "results['ASSIGNMENT:submitted'] = pd.to_datetime(results['ASSIGNMENT:submitted'])\n",
    "results['ASSIGNMENT:started'] = pd.to_datetime(results['ASSIGNMENT:started'])\n",
    "results['minutes_taken'] = results['ASSIGNMENT:submitted'] - results['ASSIGNMENT:started']\n",
    "results['minutes_taken'] = results['minutes_taken'].apply(lambda x: round(x.total_seconds() / 60, 2))\n",
    "results = results.drop(columns=['ASSIGNMENT:started', 'ASSIGNMENT:submitted'])\n",
    "\n",
    "results.head()"
   ]
  },
  {
   "cell_type": "markdown",
   "id": "3240d6ef-64e6-483c-81f9-823cd4a99afa",
   "metadata": {},
   "source": [
    "### Compare highlight similarity"
   ]
  },
  {
   "cell_type": "code",
   "execution_count": 108,
   "id": "a11fd9dd-94e6-416a-a385-e61349cc2464",
   "metadata": {},
   "outputs": [
    {
     "name": "stdout",
     "output_type": "stream",
     "text": [
      "Standard deviation of NUMBER of annotations (meaning):\n",
      " {'https://knowyourmeme.com/memes/thats-where-youre-wrong-kiddo': 0.0, 'https://knowyourmeme.com/memes/coincidence-i-think-not': 0.0, 'https://knowyourmeme.com/memes/ideal-gf': 0.0, 'https://knowyourmeme.com/memes/repost-if-x': 0.0, 'https://knowyourmeme.com/memes/ew-i-stepped-in-shit': 0.0, 'https://knowyourmeme.com/memes/oh-no-its-retarded': 0.0, 'https://knowyourmeme.com/memes/the-deathbulge-party-saga': 0.0, 'https://knowyourmeme.com/memes/is-this-a-pigeon': 0.0, 'https://knowyourmeme.com/memes/bitches-love-smiley-faces': 0.0, 'https://knowyourmeme.com/memes/modern-society-parodies': 0.0, 'https://knowyourmeme.com/memes/pennywise-the-clown': 0.0, 'https://knowyourmeme.com/memes/misinformationalized-you-hear-about-video-games': 0.0, 'https://knowyourmeme.com/memes/dont-say-youre-a-fan-if-you-dont-know-who-this-is': 0.0, 'https://knowyourmeme.com/memes/top-gun-hat': 0.4, 'https://knowyourmeme.com/memes/where-is-your-god-now': 0.4, 'https://knowyourmeme.com/memes/yall-consider-this-a-date': 0.4, 'https://knowyourmeme.com/memes/your-next-line-is': 0.4, 'https://knowyourmeme.com/memes/imminent-ned-brace-yourselves-winter-is-coming': 0.4, 'https://knowyourmeme.com/memes/pacha-edits-when-the-sun-hits-that-ridge-just-right': 0.4, 'https://knowyourmeme.com/memes/dashing-black-man-holding-dangerously-large-dorito-chip': 0.4, 'https://knowyourmeme.com/memes/does-he-bite': 0.4, 'https://knowyourmeme.com/memes/running-dad': 0.4, 'https://knowyourmeme.com/memes/what-are-you-watching': 0.4000000000000001, 'https://knowyourmeme.com/memes/cant-argue-with-that-technically-not-wrong': 0.4000000000000001, 'https://knowyourmeme.com/memes/darth-vaders-i-find-your-lack-of-faith-disturbing': 0.4000000000000001, 'https://knowyourmeme.com/memes/4-panel-cringe': 0.4000000000000001, 'https://knowyourmeme.com/memes/i-see-dead-people': 0.4000000000000001, 'https://knowyourmeme.com/memes/god-left': 0.4000000000000001, 'https://knowyourmeme.com/memes/at-first-i-was-like-but-then-i-was-like': 0.4000000000000001, 'https://knowyourmeme.com/memes/your-mother-and-i-will-always-love-you': 0.4000000000000001, 'https://knowyourmeme.com/memes/no-items-fox-only-final-destination': 0.4000000000000001, 'https://knowyourmeme.com/memes/pretty-cool-guy': 0.4000000000000001, 'https://knowyourmeme.com/memes/autistic-screeching': 0.4898979485566356, 'https://knowyourmeme.com/memes/desk-flip': 0.4898979485566356, 'https://knowyourmeme.com/memes/i-was-only-pretending-to-be-retarded': 0.4898979485566356, 'https://knowyourmeme.com/memes/you-have-my-sword-and-my-bow-and-my-axe': 0.4898979485566356, 'https://knowyourmeme.com/memes/still-think-its-harmless': 0.4898979485566356, 'https://knowyourmeme.com/memes/that-post-gave-me-cancer': 0.4898979485566356, 'https://knowyourmeme.com/memes/oh-you-love-x-name-every-y': 0.4898979485566356, 'https://knowyourmeme.com/memes/how-to-talk-to-short-people': 0.4898979485566356, 'https://knowyourmeme.com/memes/art-gallery-puking': 0.6324555320336759, 'https://knowyourmeme.com/memes/lie-down-try-not-to-cry-cry-a-lot': 0.6324555320336759, 'https://knowyourmeme.com/memes/talk-to-me-like-youre-a-fucking-idiot': 0.6324555320336759, 'https://knowyourmeme.com/memes/identifying-wood': 0.6324555320336759, 'https://knowyourmeme.com/memes/quicksaving': 0.7483314773547883, 'https://knowyourmeme.com/memes/if-you-watch-x-backwards-its-about-y': 0.8000000000000002, 'https://knowyourmeme.com/memes/i-am-altering-the-deal': 0.8000000000000002, 'https://knowyourmeme.com/memes/disappointed-black-guy': 0.8944271909999159, 'https://knowyourmeme.com/memes/swear-jar': 1.3564659966250538, 'https://knowyourmeme.com/memes/inb4--2': 4.8}\n"
     ]
    }
   ],
   "source": [
    "annotations = {key:[] for key in set(results['INPUT:memelink'])}\n",
    "for url, highlights in zip(results['INPUT:memelink'], results['OUTPUT:result']):\n",
    "    annotations[url].append(highlights)\n",
    "\n",
    "# Number of annotations for Meaning\n",
    "num_annotations = {key:[] for key in set(results['INPUT:memelink'])}\n",
    "for key, val in annotations.items():\n",
    "    num_annotations[key] = [len(x['Meaning']) if 'Meaning' in x.keys() else 0 for x in val]\n",
    "\n",
    "# Rank the annotation similarity by standard deviation of NUMBER of annotations\n",
    "std_annotations = {key:0 for key in set(results['INPUT:memelink'])}\n",
    "for key, val in num_annotations.items():\n",
    "    std_annotations[key] = np.std(val)\n",
    "std_annotations = dict(sorted(std_annotations.items(), key=lambda item: item[1]))\n",
    "print(\"Standard deviation of NUMBER of annotations (meaning):\\n\", std_annotations)"
   ]
  },
  {
   "cell_type": "code",
   "execution_count": 115,
   "id": "cff9958f-e73e-4c86-982c-b763ee778f86",
   "metadata": {},
   "outputs": [
    {
     "name": "stdout",
     "output_type": "stream",
     "text": [
      "Standard deviation of AVERAGE LENGTH of annotations (meaning):\n",
      " {'https://knowyourmeme.com/memes/modern-society-parodies': 4.758150901348127, 'https://knowyourmeme.com/memes/oh-you-love-x-name-every-y': 5.427706698044765, 'https://knowyourmeme.com/memes/pennywise-the-clown': 5.782732917920384, 'https://knowyourmeme.com/memes/i-was-only-pretending-to-be-retarded': 12.077251342917394, 'https://knowyourmeme.com/memes/your-mother-and-i-will-always-love-you': 17.26962651593832, 'https://knowyourmeme.com/memes/ideal-gf': 18.24938355123263, 'https://knowyourmeme.com/memes/no-items-fox-only-final-destination': 18.30409790183608, 'https://knowyourmeme.com/memes/i-am-altering-the-deal': 18.993098161642237, 'https://knowyourmeme.com/memes/coincidence-i-think-not': 21.30352083576797, 'https://knowyourmeme.com/memes/how-to-talk-to-short-people': 21.509067855209345, 'https://knowyourmeme.com/memes/oh-no-its-retarded': 21.73844520659194, 'https://knowyourmeme.com/memes/cant-argue-with-that-technically-not-wrong': 22.130521909796887, 'https://knowyourmeme.com/memes/if-you-watch-x-backwards-its-about-y': 24.079867109267855, 'https://knowyourmeme.com/memes/ew-i-stepped-in-shit': 24.87247474619283, 'https://knowyourmeme.com/memes/desk-flip': 26.260997696203397, 'https://knowyourmeme.com/memes/quicksaving': 26.55108284044174, 'https://knowyourmeme.com/memes/dont-say-youre-a-fan-if-you-dont-know-who-this-is': 26.92656680678025, 'https://knowyourmeme.com/memes/pretty-cool-guy': 28.5769137591868, 'https://knowyourmeme.com/memes/running-dad': 30.99032106965012, 'https://knowyourmeme.com/memes/you-have-my-sword-and-my-bow-and-my-axe': 34.248503616946536, 'https://knowyourmeme.com/memes/the-deathbulge-party-saga': 37.002702603999076, 'https://knowyourmeme.com/memes/where-is-your-god-now': 38.551264570698585, 'https://knowyourmeme.com/memes/god-left': 40.10984916451319, 'https://knowyourmeme.com/memes/what-are-you-watching': 40.88814008976197, 'https://knowyourmeme.com/memes/repost-if-x': 45.89291884376063, 'https://knowyourmeme.com/memes/thats-where-youre-wrong-kiddo': 47.973325921807835, 'https://knowyourmeme.com/memes/yall-consider-this-a-date': 49.71518882595137, 'https://knowyourmeme.com/memes/at-first-i-was-like-but-then-i-was-like': 50.860593783399736, 'https://knowyourmeme.com/memes/identifying-wood': 52.083010665667175, 'https://knowyourmeme.com/memes/is-this-a-pigeon': 53.32316569747149, 'https://knowyourmeme.com/memes/i-see-dead-people': 53.809292877717695, 'https://knowyourmeme.com/memes/inb4--2': 56.91174523384545, 'https://knowyourmeme.com/memes/4-panel-cringe': 59.796320957062235, 'https://knowyourmeme.com/memes/that-post-gave-me-cancer': 61.70380863447571, 'https://knowyourmeme.com/memes/art-gallery-puking': 63.754529250869695, 'https://knowyourmeme.com/memes/lie-down-try-not-to-cry-cry-a-lot': 69.09848044638898, 'https://knowyourmeme.com/memes/dashing-black-man-holding-dangerously-large-dorito-chip': 70.18432873512434, 'https://knowyourmeme.com/memes/does-he-bite': 72.517584074485, 'https://knowyourmeme.com/memes/still-think-its-harmless': 78.30938641057023, 'https://knowyourmeme.com/memes/top-gun-hat': 78.43111627409112, 'https://knowyourmeme.com/memes/imminent-ned-brace-yourselves-winter-is-coming': 78.76445899008004, 'https://knowyourmeme.com/memes/darth-vaders-i-find-your-lack-of-faith-disturbing': 78.83806187369144, 'https://knowyourmeme.com/memes/swear-jar': 87.97732662453434, 'https://knowyourmeme.com/memes/autistic-screeching': 95.66294998587489, 'https://knowyourmeme.com/memes/talk-to-me-like-youre-a-fucking-idiot': 99.17782010106897, 'https://knowyourmeme.com/memes/bitches-love-smiley-faces': 100.86942053962638, 'https://knowyourmeme.com/memes/your-next-line-is': 102.92987904393942, 'https://knowyourmeme.com/memes/disappointed-black-guy': 119.06745987044488, 'https://knowyourmeme.com/memes/misinformationalized-you-hear-about-video-games': 197.3105166989332, 'https://knowyourmeme.com/memes/pacha-edits-when-the-sun-hits-that-ridge-just-right': 205.44936115743948}\n"
     ]
    }
   ],
   "source": [
    "# Rank the annotation similarity by standard deviation of AVERAGE LENGTH of annotations\n",
    "length_annotations = {key:0 for key in set(results['INPUT:memelink'])}\n",
    "for key, val in annotations.items():\n",
    "    avg_lengths = []\n",
    "    for ann in val:\n",
    "        avg = []\n",
    "        if 'Meaning' in ann.keys():\n",
    "            for highlight in ann['Meaning']:\n",
    "                avg.append(len(highlight))\n",
    "            avg_lengths.append(sum(avg) / len(avg))\n",
    "        else:\n",
    "            avg_lengths.append(0)\n",
    "    length_annotations[key] = np.std(avg_lengths)\n",
    "    \n",
    "length_annotations = dict(sorted(length_annotations.items(), key=lambda item: item[1]))\n",
    "print(\"Standard deviation of AVERAGE LENGTH of annotations (meaning):\\n\", length_annotations)"
   ]
  },
  {
   "cell_type": "code",
   "execution_count": 166,
   "id": "1821f69e-6422-48f4-90b3-56b8b9fabf67",
   "metadata": {},
   "outputs": [
    {
     "name": "stdout",
     "output_type": "stream",
     "text": [
      "{'https://knowyourmeme.com/memes/autistic-screeching': [102, 105, 119, 107, 204, 70, 112, 0, 87, 181, 89, 70, 17, 251, 92, 212, 87, 181, 268], 'https://knowyourmeme.com/memes/art-gallery-puking': [31, 139, 142, 120, 108, 111, 89, 3, 29], 'https://knowyourmeme.com/memes/desk-flip': [0, 91, 0, 42, 61, 89, 89, 89, 55, 81, 91, 0, 42, 61, 91, 84, 34, 61, 57], 'https://knowyourmeme.com/memes/thats-where-youre-wrong-kiddo': [118, 92, 108, 136, 26, 10, 18, 16, 44, 28], 'https://knowyourmeme.com/memes/coincidence-i-think-not': [0, 54, 0, 0, 54, 0, 0, 54, 54, 0], 'https://knowyourmeme.com/memes/ideal-gf': [7, 46, 27, 40, 39, 20, 33, 19, 6, 25], 'https://knowyourmeme.com/memes/what-are-you-watching': [2, 43, 91, 91, 79, 93, 93, 77, 73, 73, 57, 0, 16, 16], 'https://knowyourmeme.com/memes/top-gun-hat': [39, 39, 121, 0, 120, 120], 'https://knowyourmeme.com/memes/repost-if-x': [59, 19, 112, 50, 52, 90, 17, 131, 47, 107], 'https://knowyourmeme.com/memes/ew-i-stepped-in-shit': [8, 5, 66, 8, 3, 58, 0, 61, 3, 58], 'https://knowyourmeme.com/memes/lie-down-try-not-to-cry-cry-a-lot': [0, 124, 133, 116, 124, 133, 116, 8, 56], 'https://knowyourmeme.com/memes/where-is-your-god-now': [103, 41, 0, 31, 111, 62, 103, 72, 60, 41, 10, 82, 31, 111], 'https://knowyourmeme.com/memes/oh-no-its-retarded': [17, 5, 39, 52, 22, 22, 35, 44, 57, 13], 'https://knowyourmeme.com/memes/cant-argue-with-that-technically-not-wrong': [115, 110, 115, 108, 30, 20, 30, 10, 50, 0, 40, 50, 10, 40], 'https://knowyourmeme.com/memes/the-deathbulge-party-saga': [128, 58, 60, 58, 127, 128, 127, 2, 0, 2], 'https://knowyourmeme.com/memes/i-was-only-pretending-to-be-retarded': [0, 0, 54, 25, 18, 66, 0, 54, 25, 18, 66, 25, 18, 66, 65, 64, 31, 7, 77], 'https://knowyourmeme.com/memes/darth-vaders-i-find-your-lack-of-faith-disturbing': [3, 0, 13, 195, 55, 55, 56, 187, 3, 16, 198, 13, 195, 208], 'https://knowyourmeme.com/memes/4-panel-cringe': [86, 139, 47, 53, 39, 92], 'https://knowyourmeme.com/memes/talk-to-me-like-youre-a-fucking-idiot': [242, 211, 207, 179, 31, 66, 63, 66, 52], 'https://knowyourmeme.com/memes/you-have-my-sword-and-my-bow-and-my-axe': [28, 34, 95, 28, 31, 51, 104, 0, 56, 40, 61, 57, 3, 57, 104, 64, 80, 40, 56], 'https://knowyourmeme.com/memes/is-this-a-pigeon': [84, 99, 22, 22, 15, 106, 106, 121, 121, 0], 'https://knowyourmeme.com/memes/still-think-its-harmless': [62, 126, 115, 72, 123, 141, 72, 177, 10, 83, 87, 10, 195, 72, 19, 69, 72, 187, 176, 256, 187, 77, 0, 86, 78], 'https://knowyourmeme.com/memes/identifying-wood': [85, 148, 125, 109, 125, 67, 64, 61, 68], 'https://knowyourmeme.com/memes/if-you-watch-x-backwards-its-about-y': [120, 120, 109, 110, 99, 99, 88, 61, 6, 6, 5, 102, 0, 11, 105, 11, 105, 101], 'https://knowyourmeme.com/memes/yall-consider-this-a-date': [41, 143, 35, 50, 39, 102, 67, 9, 2, 159, 93, 104, 67, 11], 'https://knowyourmeme.com/memes/your-next-line-is': [89, 86, 246, 306, 280, 97, 169, 217, 191, 169, 220, 194, 102, 88], 'https://knowyourmeme.com/memes/i-see-dead-people': [74, 12, 74, 62, 0, 62], 'https://knowyourmeme.com/memes/bitches-love-smiley-faces': [262, 4, 146, 163, 258, 116, 99, 142, 159, 17], 'https://knowyourmeme.com/memes/modern-society-parodies': [0, 96, 102, 0, 96, 102, 0, 13, 96, 102], 'https://knowyourmeme.com/memes/imminent-ned-brace-yourselves-winter-is-coming': [154, 154, 55, 178, 177, 179, 114, 24, 28, 147, 195, 192, 125, 122], 'https://knowyourmeme.com/memes/god-left': [114, 35, 37, 35, 119, 35, 39, 35, 117, 116, 117, 8, 0, 8], 'https://knowyourmeme.com/memes/pacha-edits-when-the-sun-hits-that-ridge-just-right': [495, 467, 499, 28, 4, 32], 'https://knowyourmeme.com/memes/at-first-i-was-like-but-then-i-was-like': [55, 109, 40, 54, 15, 69], 'https://knowyourmeme.com/memes/swear-jar': [95, 88, 92, 24, 152, 108, 245, 137, 144, 36, 244, 136, 176, 113, 108], 'https://knowyourmeme.com/memes/dashing-black-man-holding-dangerously-large-dorito-chip': [18, 124, 18, 106, 0, 106], 'https://knowyourmeme.com/memes/i-am-altering-the-deal': [46, 80, 72, 54, 49, 78, 70, 55, 73, 83, 78, 73, 49, 41, 11, 8, 38, 46], 'https://knowyourmeme.com/memes/disappointed-black-guy': [292, 42, 204, 149, 98, 146, 242, 191], 'https://knowyourmeme.com/memes/your-mother-and-i-will-always-love-you': [34, 66, 66, 66, 66, 0, 0, 0, 66, 66, 66, 0, 0, 0], 'https://knowyourmeme.com/memes/pennywise-the-clown': [7, 8, 0, 7, 15, 7, 0, 8, 15, 7], 'https://knowyourmeme.com/memes/inb4--2': [0, 3, 77, 145, 139, 145, 136, 139, 145, 146, 136, 140, 141, 146, 142, 141, 3, 77, 145, 139, 145, 136, 139, 145, 146, 136, 140, 141, 146, 142, 141, 74, 142, 136, 142, 133, 136, 142, 143, 133, 137, 138, 143, 139, 138, 68, 64, 68, 59, 62, 68, 69, 59, 63, 64, 69, 65, 64], 'https://knowyourmeme.com/memes/misinformationalized-you-hear-about-video-games': [361, 148, 148, 146, 509, 509, 507, 0, 2, 2], 'https://knowyourmeme.com/memes/no-items-fox-only-final-destination': [22, 123, 20, 2, 2, 2, 20, 20, 106, 121, 121, 18, 18, 0], 'https://knowyourmeme.com/memes/quicksaving': [89, 84, 76, 76, 85, 76, 91, 133, 85, 85, 100, 85, 0, 131, 28, 23, 103, 23, 131, 28, 23, 103, 23, 132, 168, 132, 5, 78, 5, 83, 0], 'https://knowyourmeme.com/memes/that-post-gave-me-cancer': [177, 135, 218, 64, 205, 0, 42, 68, 113, 75, 177, 102, 125, 95, 135, 84, 218, 149, 64], 'https://knowyourmeme.com/memes/does-he-bite': [136, 76, 58, 99, 191, 93], 'https://knowyourmeme.com/memes/oh-you-love-x-name-every-y': [0, 32, 64, 0, 0, 62, 32, 64, 0, 0, 62, 32, 32, 55, 64, 64, 2, 0, 62], 'https://knowyourmeme.com/memes/how-to-talk-to-short-people': [83, 15, 53, 54, 54, 46, 47, 4, 0, 0, 87, 50, 46, 46, 47, 47, 4, 4, 0], 'https://knowyourmeme.com/memes/pretty-cool-guy': [3, 46, 24, 49, 27, 22], 'https://knowyourmeme.com/memes/dont-say-youre-a-fan-if-you-dont-know-who-this-is': [68, 44, 33, 3, 24, 35, 71, 11, 47, 36], 'https://knowyourmeme.com/memes/running-dad': [75, 103, 45, 47, 49, 101, 88, 87, 85, 65, 63, 92, 2, 67]}\n"
     ]
    }
   ],
   "source": [
    "# Rank the annotation similarity by Levenshtein distance of annotations\n",
    "# strip from spaces probably? TODO\n",
    "highlights = {key:[] for key in set(results['INPUT:memelink'])}\n",
    "distances = {key:[] for key in set(results['INPUT:memelink'])}\n",
    "for key, val in annotations.items():\n",
    "    ID = 0\n",
    "    anns = []\n",
    "    for ann in val:\n",
    "        ID += 1\n",
    "        if 'Meaning' in ann.keys():\n",
    "            for a in ann['Meaning']:\n",
    "                anns.append((ID, a))\n",
    "        else:\n",
    "            pass # Not taking into account missing annotations\n",
    "    highlights[key] = anns\n",
    "\n",
    "\n",
    "for key, val in highlights.items():\n",
    "    lev = []\n",
    "    for i in range(len(val) - 1):\n",
    "        for j in range(i + 1, len(val)):\n",
    "            ann1 = val[i]\n",
    "            ann2 = val[j]\n",
    "            if ann1[0] != ann2[0]:\n",
    "                lev.append(Levenshtein.distance(ann1[1].strip(\" ,.:;-\"), ann2[1].strip(\" ,.:;-\")))\n",
    "    distances[key] = lev\n",
    "            \n",
    "\n",
    "print(distances)"
   ]
  },
  {
   "cell_type": "code",
   "execution_count": 176,
   "id": "5fef5c94-c5a0-4e46-bc2d-27a73c24afcf",
   "metadata": {},
   "outputs": [
    {
     "data": {
      "image/png": "[encoded data removed]",
      "text/plain": [
       "<Figure size 432x288 with 1 Axes>"
      ]
     },
     "metadata": {
      "needs_background": "light"
     },
     "output_type": "display_data"
    }
   ],
   "source": [
    "# Plot levenshtein distance histogram\n",
    "import matplotlib.pyplot as plt\n",
    "%matplotlib inline\n",
    "hist_data = flat_list = [item for sublist in list(distances.values()) for item in sublist]\n",
    "plt.hist(hist_data, bins = 50)\n",
    "plt.show() "
   ]
  }
 ],
 "metadata": {
  "kernelspec": {
   "display_name": "Python 3 (ipykernel)",
   "language": "python",
   "name": "python3"
  },
  "language_info": {
   "codemirror_mode": {
    "name": "ipython",
    "version": 3
   },
   "file_extension": ".py",
   "mimetype": "text/x-python",
   "name": "python",
   "nbconvert_exporter": "python",
   "pygments_lexer": "ipython3",
   "version": "3.9.12"
  }
 },
 "nbformat": 4,
 "nbformat_minor": 5
}
