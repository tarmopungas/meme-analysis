{
 "cells": [
  {
   "cell_type": "markdown",
   "id": "9caffdcf-f59f-459b-8146-2cc22a8e62d7",
   "metadata": {},
   "source": [
    "# Analysis of results from Toloka survey"
   ]
  },
  {
   "cell_type": "code",
   "execution_count": 78,
   "id": "b7d88a07-39a9-46ad-b8d8-0fa14aeb3dbb",
   "metadata": {},
   "outputs": [
    {
     "name": "stdout",
     "output_type": "stream",
     "text": [
      "\u001b[33mDEPRECATION: Configuring installation scheme with distutils config files is deprecated and will no longer work in the near future. If you are using a Homebrew or Linuxbrew Python, please see discussion at https://github.com/Homebrew/homebrew-core/issues/76621\u001b[0m\u001b[33m\n",
      "\u001b[0mRequirement already satisfied: python-Levenshtein in /opt/homebrew/lib/python3.9/site-packages (0.12.2)\n",
      "Requirement already satisfied: setuptools in /opt/homebrew/lib/python3.9/site-packages (from python-Levenshtein) (60.10.0)\n",
      "\u001b[33mDEPRECATION: Configuring installation scheme with distutils config files is deprecated and will no longer work in the near future. If you are using a Homebrew or Linuxbrew Python, please see discussion at https://github.com/Homebrew/homebrew-core/issues/76621\u001b[0m\u001b[33m\n",
      "\u001b[0m\u001b[33mDEPRECATION: Configuring installation scheme with distutils config files is deprecated and will no longer work in the near future. If you are using a Homebrew or Linuxbrew Python, please see discussion at https://github.com/Homebrew/homebrew-core/issues/76621\u001b[0m\u001b[33m\n",
      "\u001b[0mRequirement already satisfied: seaborn in /opt/homebrew/lib/python3.9/site-packages (0.11.2)\n",
      "Requirement already satisfied: matplotlib>=2.2 in /opt/homebrew/lib/python3.9/site-packages (from seaborn) (3.5.1)\n",
      "Requirement already satisfied: pandas>=0.23 in /opt/homebrew/lib/python3.9/site-packages (from seaborn) (1.4.1)\n",
      "Requirement already satisfied: numpy>=1.15 in /opt/homebrew/lib/python3.9/site-packages (from seaborn) (1.22.2)\n",
      "Requirement already satisfied: scipy>=1.0 in /opt/homebrew/lib/python3.9/site-packages (from seaborn) (1.8.0)\n",
      "Requirement already satisfied: packaging>=20.0 in /opt/homebrew/lib/python3.9/site-packages (from matplotlib>=2.2->seaborn) (21.3)\n",
      "Requirement already satisfied: kiwisolver>=1.0.1 in /opt/homebrew/lib/python3.9/site-packages (from matplotlib>=2.2->seaborn) (1.4.0)\n",
      "Requirement already satisfied: pyparsing>=2.2.1 in /opt/homebrew/lib/python3.9/site-packages (from matplotlib>=2.2->seaborn) (3.0.7)\n",
      "Requirement already satisfied: pillow>=6.2.0 in /opt/homebrew/lib/python3.9/site-packages (from matplotlib>=2.2->seaborn) (9.0.1)\n",
      "Requirement already satisfied: python-dateutil>=2.7 in /opt/homebrew/lib/python3.9/site-packages (from matplotlib>=2.2->seaborn) (2.8.2)\n",
      "Requirement already satisfied: fonttools>=4.22.0 in /opt/homebrew/lib/python3.9/site-packages (from matplotlib>=2.2->seaborn) (4.30.0)\n",
      "Requirement already satisfied: cycler>=0.10 in /opt/homebrew/lib/python3.9/site-packages (from matplotlib>=2.2->seaborn) (0.11.0)\n",
      "Requirement already satisfied: pytz>=2020.1 in /opt/homebrew/lib/python3.9/site-packages (from pandas>=0.23->seaborn) (2021.3)\n",
      "Requirement already satisfied: six>=1.5 in /opt/homebrew/lib/python3.9/site-packages (from python-dateutil>=2.7->matplotlib>=2.2->seaborn) (1.16.0)\n",
      "\u001b[33mDEPRECATION: Configuring installation scheme with distutils config files is deprecated and will no longer work in the near future. If you are using a Homebrew or Linuxbrew Python, please see discussion at https://github.com/Homebrew/homebrew-core/issues/76621\u001b[0m\u001b[33m\n",
      "\u001b[0m\u001b[33mDEPRECATION: Configuring installation scheme with distutils config files is deprecated and will no longer work in the near future. If you are using a Homebrew or Linuxbrew Python, please see discussion at https://github.com/Homebrew/homebrew-core/issues/76621\u001b[0m\u001b[33m\n",
      "\u001b[0mRequirement already satisfied: nbimporter in /opt/homebrew/lib/python3.9/site-packages (0.3.4)\n",
      "\u001b[33mDEPRECATION: Configuring installation scheme with distutils config files is deprecated and will no longer work in the near future. If you are using a Homebrew or Linuxbrew Python, please see discussion at https://github.com/Homebrew/homebrew-core/issues/76621\u001b[0m\u001b[33m\n",
      "\u001b[0mFound 12654 memes matching these criteria.\n"
     ]
    }
   ],
   "source": [
    "# Imports and installs\n",
    "!pip3 install python-Levenshtein\n",
    "!pip3 install seaborn\n",
    "import pandas as pd\n",
    "import numpy as np \n",
    "import datetime\n",
    "import json\n",
    "import Levenshtein\n",
    "import matplotlib.pyplot as plt\n",
    "import seaborn as sn\n",
    "%matplotlib inline\n",
    "\n",
    "# To be able to import from other notebook\n",
    "!pip3 install nbimporter\n",
    "import nbimporter\n",
    "from extraction import extract_data\n",
    "\n",
    "# Remove warning\n",
    "pd.options.mode.chained_assignment = None\n",
    "\n",
    "hex1, hex2, hex3, hex4 = '#79ccb3', '#92cad1', '#e9724d', '#868686'\n",
    "large_fontsize = 35\n",
    "medium_fontsize = 25\n",
    "small_fontsize = 15\n",
    "\n",
    "raw = pd.read_json(\"data/kym.json\")        # meme templates from Know Your Meme\n",
    "events = pd.read_json(\"data/events.json\")  # memes with timestamps from origin and spread\n",
    "memes = extract_data(raw, events)\n",
    "\n",
    "# Q1: Have you used this meme before?\n",
    "# Q2: Have you seen others use this meme?\n",
    "# Q3: Do you relate to this meme?"
   ]
  },
  {
   "cell_type": "markdown",
   "id": "53c63b88-b12d-4ed8-8592-49c80757287c",
   "metadata": {},
   "source": [
    "### Select relevant columns and clean data"
   ]
  },
  {
   "cell_type": "code",
   "execution_count": 20,
   "id": "a7511383-40ce-4707-b469-5b3609b963d5",
   "metadata": {},
   "outputs": [
    {
     "data": {
      "text/html": [
       "<div>\n",
       "<style scoped>\n",
       "    .dataframe tbody tr th:only-of-type {\n",
       "        vertical-align: middle;\n",
       "    }\n",
       "\n",
       "    .dataframe tbody tr th {\n",
       "        vertical-align: top;\n",
       "    }\n",
       "\n",
       "    .dataframe thead th {\n",
       "        text-align: right;\n",
       "    }\n",
       "</style>\n",
       "<table border=\"1\" class=\"dataframe\">\n",
       "  <thead>\n",
       "    <tr style=\"text-align: right;\">\n",
       "      <th></th>\n",
       "      <th>INPUT:input</th>\n",
       "      <th>INPUT:memelink</th>\n",
       "      <th>OUTPUT:q1</th>\n",
       "      <th>OUTPUT:q2</th>\n",
       "      <th>OUTPUT:q3</th>\n",
       "      <th>OUTPUT:result</th>\n",
       "      <th>OUTPUT:reaction</th>\n",
       "      <th>OUTPUT:snowclone</th>\n",
       "      <th>OUTPUT:exploitable</th>\n",
       "      <th>minutes_taken</th>\n",
       "    </tr>\n",
       "  </thead>\n",
       "  <tbody>\n",
       "    <tr>\n",
       "      <th>0</th>\n",
       "      <td>Autistic Screeching is an exploitable comic se...</td>\n",
       "      <td>https://knowyourmeme.com/memes/autistic-screec...</td>\n",
       "      <td>False</td>\n",
       "      <td>False</td>\n",
       "      <td>False</td>\n",
       "      <td>{'Title': ['Autistic Screeching', '\"autistic s...</td>\n",
       "      <td>False</td>\n",
       "      <td>True</td>\n",
       "      <td>False</td>\n",
       "      <td>8.59</td>\n",
       "    </tr>\n",
       "    <tr>\n",
       "      <th>1</th>\n",
       "      <td>No Items, Fox Only, Final Destination is a cat...</td>\n",
       "      <td>https://knowyourmeme.com/memes/no-items-fox-on...</td>\n",
       "      <td>False</td>\n",
       "      <td>False</td>\n",
       "      <td>False</td>\n",
       "      <td>{'Title': ['No Items, Fox Only, Final Destinat...</td>\n",
       "      <td>True</td>\n",
       "      <td>False</td>\n",
       "      <td>False</td>\n",
       "      <td>5.60</td>\n",
       "    </tr>\n",
       "    <tr>\n",
       "      <th>2</th>\n",
       "      <td>Lie Down / Try Not to Cry / Cry a Lot refers a...</td>\n",
       "      <td>https://knowyourmeme.com/memes/lie-down-try-no...</td>\n",
       "      <td>False</td>\n",
       "      <td>False</td>\n",
       "      <td>False</td>\n",
       "      <td>{'Title': ['Lie Down', 'Try Not to Cry', 'Cry ...</td>\n",
       "      <td>True</td>\n",
       "      <td>False</td>\n",
       "      <td>False</td>\n",
       "      <td>2.71</td>\n",
       "    </tr>\n",
       "    <tr>\n",
       "      <th>3</th>\n",
       "      <td>Autistic Screeching is an exploitable comic se...</td>\n",
       "      <td>https://knowyourmeme.com/memes/autistic-screec...</td>\n",
       "      <td>False</td>\n",
       "      <td>False</td>\n",
       "      <td>False</td>\n",
       "      <td>{'Title': ['Autistic Screeching'], 'Meaning': ...</td>\n",
       "      <td>True</td>\n",
       "      <td>False</td>\n",
       "      <td>False</td>\n",
       "      <td>6.74</td>\n",
       "    </tr>\n",
       "    <tr>\n",
       "      <th>4</th>\n",
       "      <td>Y'all Consider This A Date? refers to a series...</td>\n",
       "      <td>https://knowyourmeme.com/memes/yall-consider-t...</td>\n",
       "      <td>False</td>\n",
       "      <td>False</td>\n",
       "      <td>False</td>\n",
       "      <td>{'Title': ['Y'all Consider This A Date?'], 'Me...</td>\n",
       "      <td>False</td>\n",
       "      <td>False</td>\n",
       "      <td>True</td>\n",
       "      <td>9.53</td>\n",
       "    </tr>\n",
       "  </tbody>\n",
       "</table>\n",
       "</div>"
      ],
      "text/plain": [
       "                                         INPUT:input  \\\n",
       "0  Autistic Screeching is an exploitable comic se...   \n",
       "1  No Items, Fox Only, Final Destination is a cat...   \n",
       "2  Lie Down / Try Not to Cry / Cry a Lot refers a...   \n",
       "3  Autistic Screeching is an exploitable comic se...   \n",
       "4  Y'all Consider This A Date? refers to a series...   \n",
       "\n",
       "                                      INPUT:memelink  OUTPUT:q1  OUTPUT:q2  \\\n",
       "0  https://knowyourmeme.com/memes/autistic-screec...      False      False   \n",
       "1  https://knowyourmeme.com/memes/no-items-fox-on...      False      False   \n",
       "2  https://knowyourmeme.com/memes/lie-down-try-no...      False      False   \n",
       "3  https://knowyourmeme.com/memes/autistic-screec...      False      False   \n",
       "4  https://knowyourmeme.com/memes/yall-consider-t...      False      False   \n",
       "\n",
       "   OUTPUT:q3                                      OUTPUT:result  \\\n",
       "0      False  {'Title': ['Autistic Screeching', '\"autistic s...   \n",
       "1      False  {'Title': ['No Items, Fox Only, Final Destinat...   \n",
       "2      False  {'Title': ['Lie Down', 'Try Not to Cry', 'Cry ...   \n",
       "3      False  {'Title': ['Autistic Screeching'], 'Meaning': ...   \n",
       "4      False  {'Title': ['Y'all Consider This A Date?'], 'Me...   \n",
       "\n",
       "   OUTPUT:reaction  OUTPUT:snowclone  OUTPUT:exploitable  minutes_taken  \n",
       "0            False              True               False           8.59  \n",
       "1             True             False               False           5.60  \n",
       "2             True             False               False           2.71  \n",
       "3             True             False               False           6.74  \n",
       "4            False             False                True           9.53  "
      ]
     },
     "execution_count": 20,
     "metadata": {},
     "output_type": "execute_result"
    }
   ],
   "source": [
    "results = pd.read_csv(\"data/toloka_results.tsv\", sep=\"\\t\")\n",
    "results = results.drop(columns=['INPUT:image', 'OUTPUT:captcha', 'OUTPUT:text_review_mode', 'GOLDEN:q1', 'GOLDEN:q2', 'GOLDEN:q3', 'GOLDEN:result', 'GOLDEN:captcha', 'GOLDEN:reaction', 'GOLDEN:snowclone', 'GOLDEN:exploitable', 'GOLDEN:text_review_mode', 'HINT:text', 'HINT:default_language', 'ASSIGNMENT:link', 'ASSIGNMENT:task_id', 'ASSIGNMENT:assignment_id', 'ASSIGNMENT:worker_id', 'ASSIGNMENT:status'])\n",
    "results['OUTPUT:result'] = results['OUTPUT:result'].apply(lambda x: json.loads(x))\n",
    "\n",
    "# Convert multiple-choice answers to boolean\n",
    "results['OUTPUT:q1'] = results['OUTPUT:q1'].map({'1y': True, '1n': False})\n",
    "results['OUTPUT:q2'] = results['OUTPUT:q2'].map({'2y': True, '2n': False})\n",
    "results['OUTPUT:q3'] = results['OUTPUT:q3'].map({'3y': True, '3n': False})\n",
    "\n",
    "# Calculate time taken per assignment\n",
    "results['ASSIGNMENT:submitted'] = pd.to_datetime(results['ASSIGNMENT:submitted'])\n",
    "results['ASSIGNMENT:started'] = pd.to_datetime(results['ASSIGNMENT:started'])\n",
    "results['minutes_taken'] = results['ASSIGNMENT:submitted'] - results['ASSIGNMENT:started']\n",
    "results['minutes_taken'] = results['minutes_taken'].apply(lambda x: round(x.total_seconds() / 60, 2))\n",
    "results = results.drop(columns=['ASSIGNMENT:started', 'ASSIGNMENT:submitted'])\n",
    "\n",
    "results.head()"
   ]
  },
  {
   "cell_type": "markdown",
   "id": "72398b24-efe0-4d2b-a747-bb9b50e56017",
   "metadata": {},
   "source": [
    "## Time taken for annotation"
   ]
  },
  {
   "cell_type": "code",
   "execution_count": 14,
   "id": "b2e42e3b-d558-4517-9fa5-4009456ba837",
   "metadata": {},
   "outputs": [
    {
     "data": {
      "image/png": "[encoded data removed]",
      "text/plain": [
       "<Figure size 432x288 with 1 Axes>"
      ]
     },
     "metadata": {
      "needs_background": "light"
     },
     "output_type": "display_data"
    }
   ],
   "source": [
    "# Plot time taken for annotations (in minutes)\n",
    "plt.hist(results['minutes_taken'], bins = 50)\n",
    "# plt.bar(results['minutes_taken'], bins = len(results))\n",
    "plt.title(\"Minutes taken for annotations\")\n",
    "plt.show()"
   ]
  },
  {
   "cell_type": "markdown",
   "id": "0a784593-b0ed-4c54-8f2a-9b453867e6e5",
   "metadata": {},
   "source": [
    "## Analysis of multiple-choice answers"
   ]
  },
  {
   "cell_type": "code",
   "execution_count": 86,
   "id": "b4feb462-855c-4087-9457-f20ffd5b5b77",
   "metadata": {},
   "outputs": [
    {
     "data": {
      "image/png": "[encoded data removed]",
      "text/plain": [
       "<Figure size 300x300 with 1 Axes>"
      ]
     },
     "metadata": {},
     "output_type": "display_data"
    }
   ],
   "source": [
    "# Add year as separate column\n",
    "from collections import Counter\n",
    "plt.rcParams['figure.figsize'] = [2, 2]\n",
    "plt.rcParams['figure.dpi'] = 150\n",
    "\n",
    "plot_data = Counter(results['OUTPUT:q1'])\n",
    "\n",
    "plt.figure(figsize=(2, 2), dpi=150)\n",
    "plt.pie(x = plot_data.values(), labels = plot_data.keys(), colors=[hex2, hex3], autopct='%1.1f%%', shadow=True, explode=(0.1, 0.1))\n",
    "# plt.ylabel('Total number', fontsize=medium_fontsize)\n",
    "# plt.xlabel('Year', fontsize=medium_fontsize)\n",
    "plt.title(\"Have you used\\n this meme before?\", fontsize=large_fontsize - 25)\n",
    "# plt.xticks(ticks=[0,1], labels=[\"False\", \"True\"], fontsize=small_fontsize)\n",
    "# plt.yticks(fontsize=small_fontsize)\n",
    "# plt.xlim([-1,len(plot_data.keys())])\n",
    "# plt.set_size_inches(8, 6)\n",
    "# plt.savefig('graphs/q1.png', bbox_inches='tight')\n",
    "plt.show()"
   ]
  },
  {
   "cell_type": "code",
   "execution_count": 85,
   "id": "239652cf-f65a-461d-9d31-4bad663ccb75",
   "metadata": {},
   "outputs": [
    {
     "data": {
      "image/png": "[encoded data removed]",
      "text/plain": [
       "<Figure size 300x300 with 1 Axes>"
      ]
     },
     "metadata": {},
     "output_type": "display_data"
    }
   ],
   "source": [
    "plot_data = Counter(results['OUTPUT:q2'])\n",
    "\n",
    "plt.figure(figsize=(2, 2), dpi=150)\n",
    "plt.pie(x = plot_data.values(), labels = plot_data.keys(), colors=[hex2, hex3], autopct='%1.1f%%', shadow=True, explode=(0.1, 0.1))\n",
    "# plt.ylabel('Total number', fontsize=medium_fontsize)\n",
    "# plt.xlabel('Year', fontsize=medium_fontsize)\n",
    "plt.title(\"Have you seen others\\nuse this meme?\", fontsize=large_fontsize - 25)\n",
    "# plt.xticks(ticks=[0,1], labels=[\"False\", \"True\"], fontsize=small_fontsize)\n",
    "# plt.yticks(fontsize=small_fontsize)\n",
    "# plt.xlim([-1,len(plot_data.keys())])\n",
    "# plt.savefig('graphs/q2.png', bbox_inches='tight')\n",
    "plt.show()"
   ]
  },
  {
   "cell_type": "code",
   "execution_count": 84,
   "id": "59bd363a-4bd3-412b-a753-139b3177edc2",
   "metadata": {},
   "outputs": [
    {
     "data": {
      "image/png": "[encoded data removed]",
      "text/plain": [
       "<Figure size 300x300 with 1 Axes>"
      ]
     },
     "metadata": {},
     "output_type": "display_data"
    }
   ],
   "source": [
    "plot_data = Counter(results['OUTPUT:q3'])\n",
    "\n",
    "plt.figure(figsize=(2, 2), dpi=150)\n",
    "plt.pie(x = plot_data.values(), labels = plot_data.keys(), colors=[hex2, hex3], autopct='%1.1f%%', shadow=True, explode=(0.1, 0.1))\n",
    "# plt.ylabel('Total number', fontsize=medium_fontsize)\n",
    "# plt.xlabel('Year', fontsize=medium_fontsize)\n",
    "plt.title(\"    Do you relate    \\n     to this meme?     \", fontsize=large_fontsize - 25)\n",
    "# plt.xticks(ticks=[0,1], labels=[\"False\", \"True\"], fontsize=small_fontsize)\n",
    "# plt.yticks(fontsize=small_fontsize)\n",
    "# plt.xlim([-1,len(plot_data.keys())])\n",
    "# plt.savefig('graphs/q3.png', bbox_inches='tight')\n",
    "plt.show()"
   ]
  },
  {
   "cell_type": "code",
   "execution_count": 14,
   "id": "15e5b965-2887-4578-8005-99a79bf1d510",
   "metadata": {},
   "outputs": [
    {
     "name": "stdout",
     "output_type": "stream",
     "text": [
      "0.216\n"
     ]
    }
   ],
   "source": [
    "# Agreement between questions\n",
    "agreement = results['OUTPUT:q2'] == results['OUTPUT:q3']\n",
    "agreement = [1 if a == b and a == True else 0 for a,b in zip(results['OUTPUT:q2'], results['OUTPUT:q3'])]\n",
    "print(sum(agreement) / len(agreement))"
   ]
  },
  {
   "cell_type": "code",
   "execution_count": 52,
   "id": "9046936f-830f-4835-aff5-bed59f778e38",
   "metadata": {},
   "outputs": [
    {
     "data": {
      "image/png": "[encoded data removed]",
      "text/plain": [
       "<Figure size 432x288 with 2 Axes>"
      ]
     },
     "metadata": {
      "needs_background": "light"
     },
     "output_type": "display_data"
    }
   ],
   "source": [
    "# Correlation between Q1, Q2 and Q3\n",
    "questions = results[['OUTPUT:q1', 'OUTPUT:q2', 'OUTPUT:q3']]\n",
    "questions['OUTPUT:q1'] = questions['OUTPUT:q1'].map({True: 1, False: 0})\n",
    "questions['OUTPUT:q2'] = questions['OUTPUT:q2'].map({True: 1, False: 0})\n",
    "questions['OUTPUT:q3'] = questions['OUTPUT:q3'].map({True: 1, False: 0})\n",
    "\n",
    "questions.columns = ['Q1', 'Q2', 'Q3']\n",
    "corr = questions.corr()\n",
    "#print(corr)\n",
    "sn.heatmap(corr, annot=True)\n",
    "plt.xticks(fontsize=small_fontsize)\n",
    "plt.yticks(fontsize=small_fontsize)\n",
    "plt.show()"
   ]
  },
  {
   "cell_type": "code",
   "execution_count": 93,
   "id": "735834b5-b988-4b8d-bd0b-4393215c7686",
   "metadata": {},
   "outputs": [
    {
     "name": "stdout",
     "output_type": "stream",
     "text": [
      "Percentage of annotations that got the type right: 0.6\n"
     ]
    }
   ],
   "source": [
    "# TODO check agreement between every meme's type (there are 5 annotations, what percentage of them match? – not sure how to measure)\n",
    "# TODO you can check whether the type they selected matches the type(s) that we have in the dataset as \"GROUND TRUTH\"! this is much easier\n",
    "types = results[['INPUT:memelink', 'OUTPUT:reaction', 'OUTPUT:snowclone', 'OUTPUT:exploitable']]\n",
    "types.rename(columns = {'INPUT:memelink':'url'}, inplace = True)\n",
    "types = pd.merge(types, memes, on=\"url\", how=\"left\")\n",
    "types = types[['url', 'type', 'OUTPUT:reaction', 'OUTPUT:snowclone', 'OUTPUT:exploitable']]\n",
    "\n",
    "typematch = []\n",
    "for target, r, s, e in zip(types['type'], types['OUTPUT:reaction'], types['OUTPUT:snowclone'], types['OUTPUT:exploitable']):\n",
    "    output = set()\n",
    "    if r == True:\n",
    "        output.add(\"reaction\")\n",
    "    if s == True:\n",
    "        output.add(\"snowclone\")\n",
    "    if e == True:\n",
    "        output.add(\"exploitable\")\n",
    "    if len(output.intersection(set(target))) > 0:\n",
    "        typematch.append(1)\n",
    "    else:\n",
    "        typematch.append(0)\n",
    "    \n",
    "print(\"Percentage of annotations that got the type right:\", sum(typematch) / len(typematch))"
   ]
  },
  {
   "cell_type": "code",
   "execution_count": null,
   "id": "a3110700-9182-43df-a00d-42ee2feb62ef",
   "metadata": {},
   "outputs": [],
   "source": []
  },
  {
   "cell_type": "markdown",
   "id": "3240d6ef-64e6-483c-81f9-823cd4a99afa",
   "metadata": {},
   "source": [
    "## Compare highlight similarity: MEANING"
   ]
  },
  {
   "cell_type": "code",
   "execution_count": 149,
   "id": "a11fd9dd-94e6-416a-a385-e61349cc2464",
   "metadata": {},
   "outputs": [
    {
     "name": "stdout",
     "output_type": "stream",
     "text": [
      "Standard deviation of NUMBER of annotations (meaning):\n",
      " {'https://knowyourmeme.com/memes/ideal-gf': 0.0, 'https://knowyourmeme.com/memes/ew-i-stepped-in-shit': 0.0, 'https://knowyourmeme.com/memes/the-deathbulge-party-saga': 0.0, 'https://knowyourmeme.com/memes/pennywise-the-clown': 0.0, 'https://knowyourmeme.com/memes/dont-say-youre-a-fan-if-you-dont-know-who-this-is': 0.0, 'https://knowyourmeme.com/memes/repost-if-x': 0.0, 'https://knowyourmeme.com/memes/bitches-love-smiley-faces': 0.0, 'https://knowyourmeme.com/memes/misinformationalized-you-hear-about-video-games': 0.0, 'https://knowyourmeme.com/memes/coincidence-i-think-not': 0.0, 'https://knowyourmeme.com/memes/modern-society-parodies': 0.0, 'https://knowyourmeme.com/memes/thats-where-youre-wrong-kiddo': 0.0, 'https://knowyourmeme.com/memes/oh-no-its-retarded': 0.0, 'https://knowyourmeme.com/memes/is-this-a-pigeon': 0.0, 'https://knowyourmeme.com/memes/your-next-line-is': 0.4, 'https://knowyourmeme.com/memes/does-he-bite': 0.4, 'https://knowyourmeme.com/memes/dashing-black-man-holding-dangerously-large-dorito-chip': 0.4, 'https://knowyourmeme.com/memes/running-dad': 0.4, 'https://knowyourmeme.com/memes/where-is-your-god-now': 0.4, 'https://knowyourmeme.com/memes/top-gun-hat': 0.4, 'https://knowyourmeme.com/memes/pacha-edits-when-the-sun-hits-that-ridge-just-right': 0.4, 'https://knowyourmeme.com/memes/yall-consider-this-a-date': 0.4, 'https://knowyourmeme.com/memes/imminent-ned-brace-yourselves-winter-is-coming': 0.4, 'https://knowyourmeme.com/memes/at-first-i-was-like-but-then-i-was-like': 0.4000000000000001, 'https://knowyourmeme.com/memes/darth-vaders-i-find-your-lack-of-faith-disturbing': 0.4000000000000001, 'https://knowyourmeme.com/memes/pretty-cool-guy': 0.4000000000000001, 'https://knowyourmeme.com/memes/cant-argue-with-that-technically-not-wrong': 0.4000000000000001, 'https://knowyourmeme.com/memes/i-see-dead-people': 0.4000000000000001, 'https://knowyourmeme.com/memes/your-mother-and-i-will-always-love-you': 0.4000000000000001, 'https://knowyourmeme.com/memes/god-left': 0.4000000000000001, 'https://knowyourmeme.com/memes/no-items-fox-only-final-destination': 0.4000000000000001, 'https://knowyourmeme.com/memes/what-are-you-watching': 0.4000000000000001, 'https://knowyourmeme.com/memes/4-panel-cringe': 0.4000000000000001, 'https://knowyourmeme.com/memes/desk-flip': 0.4898979485566356, 'https://knowyourmeme.com/memes/you-have-my-sword-and-my-bow-and-my-axe': 0.4898979485566356, 'https://knowyourmeme.com/memes/oh-you-love-x-name-every-y': 0.4898979485566356, 'https://knowyourmeme.com/memes/autistic-screeching': 0.4898979485566356, 'https://knowyourmeme.com/memes/still-think-its-harmless': 0.4898979485566356, 'https://knowyourmeme.com/memes/i-was-only-pretending-to-be-retarded': 0.4898979485566356, 'https://knowyourmeme.com/memes/that-post-gave-me-cancer': 0.4898979485566356, 'https://knowyourmeme.com/memes/how-to-talk-to-short-people': 0.4898979485566356, 'https://knowyourmeme.com/memes/art-gallery-puking': 0.6324555320336759, 'https://knowyourmeme.com/memes/lie-down-try-not-to-cry-cry-a-lot': 0.6324555320336759, 'https://knowyourmeme.com/memes/talk-to-me-like-youre-a-fucking-idiot': 0.6324555320336759, 'https://knowyourmeme.com/memes/identifying-wood': 0.6324555320336759, 'https://knowyourmeme.com/memes/quicksaving': 0.7483314773547883, 'https://knowyourmeme.com/memes/i-am-altering-the-deal': 0.8000000000000002, 'https://knowyourmeme.com/memes/if-you-watch-x-backwards-its-about-y': 0.8000000000000002, 'https://knowyourmeme.com/memes/disappointed-black-guy': 0.8944271909999159, 'https://knowyourmeme.com/memes/swear-jar': 1.3564659966250538, 'https://knowyourmeme.com/memes/inb4--2': 4.8}\n"
     ]
    }
   ],
   "source": [
    "annotations = {key:[] for key in set(results['INPUT:memelink'])}\n",
    "for url, highlights in zip(results['INPUT:memelink'], results['OUTPUT:result']):\n",
    "    annotations[url].append(highlights)\n",
    "\n",
    "# Number of annotations for Meaning\n",
    "num_annotations = {key:[] for key in set(results['INPUT:memelink'])}\n",
    "for key, val in annotations.items():\n",
    "    num_annotations[key] = [len(x['Meaning']) if 'Meaning' in x.keys() else 0 for x in val]\n",
    "\n",
    "# Rank the annotation similarity by standard deviation of NUMBER of annotations\n",
    "std_annotations = {key:0 for key in set(results['INPUT:memelink'])}\n",
    "for key, val in num_annotations.items():\n",
    "    std_annotations[key] = np.std(val)\n",
    "std_annotations = dict(sorted(std_annotations.items(), key=lambda item: item[1]))\n",
    "print(\"Standard deviation of NUMBER of annotations (meaning):\\n\", std_annotations)"
   ]
  },
  {
   "cell_type": "markdown",
   "id": "4103c2b6-434e-4545-b9d6-162fed143330",
   "metadata": {},
   "source": [
    "### Rank the annotation similarity by standard deviation of AVERAGE LENGTH of annotations"
   ]
  },
  {
   "cell_type": "code",
   "execution_count": 148,
   "id": "cff9958f-e73e-4c86-982c-b763ee778f86",
   "metadata": {},
   "outputs": [
    {
     "name": "stdout",
     "output_type": "stream",
     "text": [
      "Standard deviation of AVERAGE LENGTH of annotations (meaning):\n",
      " {'https://knowyourmeme.com/memes/modern-society-parodies': 4.758150901348127, 'https://knowyourmeme.com/memes/oh-you-love-x-name-every-y': 5.427706698044765, 'https://knowyourmeme.com/memes/pennywise-the-clown': 5.782732917920384, 'https://knowyourmeme.com/memes/i-was-only-pretending-to-be-retarded': 12.077251342917394, 'https://knowyourmeme.com/memes/your-mother-and-i-will-always-love-you': 17.26962651593832, 'https://knowyourmeme.com/memes/ideal-gf': 18.24938355123263, 'https://knowyourmeme.com/memes/no-items-fox-only-final-destination': 18.30409790183608, 'https://knowyourmeme.com/memes/i-am-altering-the-deal': 18.993098161642237, 'https://knowyourmeme.com/memes/coincidence-i-think-not': 21.30352083576797, 'https://knowyourmeme.com/memes/how-to-talk-to-short-people': 21.509067855209345, 'https://knowyourmeme.com/memes/oh-no-its-retarded': 21.73844520659194, 'https://knowyourmeme.com/memes/cant-argue-with-that-technically-not-wrong': 22.130521909796887, 'https://knowyourmeme.com/memes/if-you-watch-x-backwards-its-about-y': 24.079867109267855, 'https://knowyourmeme.com/memes/ew-i-stepped-in-shit': 24.87247474619283, 'https://knowyourmeme.com/memes/desk-flip': 26.260997696203397, 'https://knowyourmeme.com/memes/quicksaving': 26.55108284044174, 'https://knowyourmeme.com/memes/dont-say-youre-a-fan-if-you-dont-know-who-this-is': 26.92656680678025, 'https://knowyourmeme.com/memes/pretty-cool-guy': 28.5769137591868, 'https://knowyourmeme.com/memes/running-dad': 30.99032106965012, 'https://knowyourmeme.com/memes/you-have-my-sword-and-my-bow-and-my-axe': 34.248503616946536, 'https://knowyourmeme.com/memes/the-deathbulge-party-saga': 37.002702603999076, 'https://knowyourmeme.com/memes/where-is-your-god-now': 38.551264570698585, 'https://knowyourmeme.com/memes/god-left': 40.10984916451319, 'https://knowyourmeme.com/memes/what-are-you-watching': 40.88814008976197, 'https://knowyourmeme.com/memes/repost-if-x': 45.89291884376063, 'https://knowyourmeme.com/memes/thats-where-youre-wrong-kiddo': 47.973325921807835, 'https://knowyourmeme.com/memes/yall-consider-this-a-date': 49.71518882595137, 'https://knowyourmeme.com/memes/at-first-i-was-like-but-then-i-was-like': 50.860593783399736, 'https://knowyourmeme.com/memes/identifying-wood': 52.083010665667175, 'https://knowyourmeme.com/memes/is-this-a-pigeon': 53.32316569747149, 'https://knowyourmeme.com/memes/i-see-dead-people': 53.809292877717695, 'https://knowyourmeme.com/memes/inb4--2': 56.91174523384545, 'https://knowyourmeme.com/memes/4-panel-cringe': 59.796320957062235, 'https://knowyourmeme.com/memes/that-post-gave-me-cancer': 61.70380863447571, 'https://knowyourmeme.com/memes/art-gallery-puking': 63.754529250869695, 'https://knowyourmeme.com/memes/lie-down-try-not-to-cry-cry-a-lot': 69.09848044638898, 'https://knowyourmeme.com/memes/dashing-black-man-holding-dangerously-large-dorito-chip': 70.18432873512434, 'https://knowyourmeme.com/memes/does-he-bite': 72.517584074485, 'https://knowyourmeme.com/memes/still-think-its-harmless': 78.30938641057023, 'https://knowyourmeme.com/memes/top-gun-hat': 78.43111627409112, 'https://knowyourmeme.com/memes/imminent-ned-brace-yourselves-winter-is-coming': 78.76445899008004, 'https://knowyourmeme.com/memes/darth-vaders-i-find-your-lack-of-faith-disturbing': 78.83806187369144, 'https://knowyourmeme.com/memes/swear-jar': 87.97732662453434, 'https://knowyourmeme.com/memes/autistic-screeching': 95.66294998587489, 'https://knowyourmeme.com/memes/talk-to-me-like-youre-a-fucking-idiot': 99.17782010106897, 'https://knowyourmeme.com/memes/bitches-love-smiley-faces': 100.86942053962638, 'https://knowyourmeme.com/memes/your-next-line-is': 102.92987904393942, 'https://knowyourmeme.com/memes/disappointed-black-guy': 119.06745987044488, 'https://knowyourmeme.com/memes/misinformationalized-you-hear-about-video-games': 197.3105166989332, 'https://knowyourmeme.com/memes/pacha-edits-when-the-sun-hits-that-ridge-just-right': 205.44936115743948}\n"
     ]
    }
   ],
   "source": [
    "length_annotations = {key:0 for key in set(results['INPUT:memelink'])}\n",
    "for key, val in annotations.items():\n",
    "    avg_lengths = []\n",
    "    for ann in val:\n",
    "        avg = []\n",
    "        if 'Meaning' in ann.keys():\n",
    "            for highlight in ann['Meaning']:\n",
    "                avg.append(len(highlight))\n",
    "            avg_lengths.append(sum(avg) / len(avg))\n",
    "        else:\n",
    "            avg_lengths.append(0)\n",
    "    length_annotations[key] = np.std(avg_lengths)\n",
    "    \n",
    "length_annotations = dict(sorted(length_annotations.items(), key=lambda item: item[1]))\n",
    "print(\"Standard deviation of AVERAGE LENGTH of annotations (meaning):\\n\", length_annotations)"
   ]
  },
  {
   "cell_type": "markdown",
   "id": "6e647162-b1a7-4098-b1a4-481ae191352a",
   "metadata": {},
   "source": [
    "### Rank the annotation similarity by Levenshtein distance of annotations"
   ]
  },
  {
   "cell_type": "code",
   "execution_count": 177,
   "id": "1821f69e-6422-48f4-90b3-56b8b9fabf67",
   "metadata": {},
   "outputs": [
    {
     "data": {
      "text/html": [
       "<div>\n",
       "<style scoped>\n",
       "    .dataframe tbody tr th:only-of-type {\n",
       "        vertical-align: middle;\n",
       "    }\n",
       "\n",
       "    .dataframe tbody tr th {\n",
       "        vertical-align: top;\n",
       "    }\n",
       "\n",
       "    .dataframe thead th {\n",
       "        text-align: right;\n",
       "    }\n",
       "</style>\n",
       "<table border=\"1\" class=\"dataframe\">\n",
       "  <thead>\n",
       "    <tr style=\"text-align: right;\">\n",
       "      <th></th>\n",
       "      <th>A1</th>\n",
       "      <th>A2</th>\n",
       "      <th>A3</th>\n",
       "      <th>A4</th>\n",
       "      <th>A5</th>\n",
       "    </tr>\n",
       "  </thead>\n",
       "  <tbody>\n",
       "    <tr>\n",
       "      <th>A1</th>\n",
       "      <td>1</td>\n",
       "      <td>1</td>\n",
       "      <td>1</td>\n",
       "      <td>0</td>\n",
       "      <td>0</td>\n",
       "    </tr>\n",
       "    <tr>\n",
       "      <th>A2</th>\n",
       "      <td>1</td>\n",
       "      <td>1</td>\n",
       "      <td>1</td>\n",
       "      <td>0</td>\n",
       "      <td>0</td>\n",
       "    </tr>\n",
       "    <tr>\n",
       "      <th>A3</th>\n",
       "      <td>1</td>\n",
       "      <td>1</td>\n",
       "      <td>1</td>\n",
       "      <td>0</td>\n",
       "      <td>0</td>\n",
       "    </tr>\n",
       "    <tr>\n",
       "      <th>A4</th>\n",
       "      <td>0</td>\n",
       "      <td>0</td>\n",
       "      <td>0</td>\n",
       "      <td>1</td>\n",
       "      <td>0</td>\n",
       "    </tr>\n",
       "    <tr>\n",
       "      <th>A5</th>\n",
       "      <td>0</td>\n",
       "      <td>0</td>\n",
       "      <td>0</td>\n",
       "      <td>0</td>\n",
       "      <td>1</td>\n",
       "    </tr>\n",
       "    <tr>\n",
       "      <th>Total</th>\n",
       "      <td>3</td>\n",
       "      <td>3</td>\n",
       "      <td>3</td>\n",
       "      <td>1</td>\n",
       "      <td>1</td>\n",
       "    </tr>\n",
       "  </tbody>\n",
       "</table>\n",
       "</div>"
      ],
      "text/plain": [
       "       A1  A2  A3  A4  A5\n",
       "A1      1   1   1   0   0\n",
       "A2      1   1   1   0   0\n",
       "A3      1   1   1   0   0\n",
       "A4      0   0   0   1   0\n",
       "A5      0   0   0   0   1\n",
       "Total   3   3   3   1   1"
      ]
     },
     "execution_count": 177,
     "metadata": {},
     "output_type": "execute_result"
    }
   ],
   "source": [
    "highlights = {key:[] for key in set(results['INPUT:memelink'])}\n",
    "distances = {key:{} for key in set(results['INPUT:memelink'])}\n",
    "\n",
    "# Make dictionary of highlights with IDs\n",
    "for key, val in annotations.items():\n",
    "    ID = 0\n",
    "    anns = []\n",
    "    for ann in val:\n",
    "        ID += 1\n",
    "        if 'Meaning' in ann.keys():\n",
    "            for a in ann['Meaning']:\n",
    "                anns.append((ID, a))\n",
    "        else:\n",
    "            anns.append((ID, \"\")) # Missing annotations\n",
    "    highlights[key] = anns\n",
    "\n",
    "# Calculate distances\n",
    "for key, val in highlights.items():\n",
    "    lev = {}\n",
    "    for i in range(len(val) - 1):\n",
    "        for j in range(i + 1, len(val)):\n",
    "            ann1 = val[i]\n",
    "            ann2 = val[j]\n",
    "            if ann1[0] != ann2[0]:\n",
    "                new_key = \"A\" + str(ann1[0]) + \"-A\" + str(ann2[0])\n",
    "                if new_key in lev.keys():\n",
    "                    if ann1[1] == \"\" or ann2[1] == \"\":\n",
    "                        lev[new_key].append(-1)\n",
    "                    else:\n",
    "                        lev[new_key].append(Levenshtein.distance(ann1[1].strip(\" ,.:;-\"), ann2[1].strip(\" ,.:;-\")))\n",
    "                else:\n",
    "                    if ann1[1] == \"\" or ann2[1] == \"\":\n",
    "                        lev[new_key] = [-1]\n",
    "                    else:\n",
    "                        lev[new_key] = [Levenshtein.distance(ann1[1].strip(\" ,.:;-\"), ann2[1].strip(\" ,.:;-\"))]\n",
    "    distances[key] = lev\n",
    "    \n",
    "# Create flat list with all distances, find max for normalization\n",
    "hist_data = [x for val in distances.values() for x in val.values()]\n",
    "hist_data = [x for sublist in hist_data for x in sublist if x != -1]\n",
    "max_dist = max(hist_data)\n",
    "       \n",
    "matrices = {}       \n",
    "col_names = ['A1', 'A2', 'A3', 'A4', 'A5']\n",
    "for key, value in distances.items():\n",
    "    columns = {key:[] for key in col_names}\n",
    "    c = 0\n",
    "    for k, v in value.items():\n",
    "        l = [x for x in v if x != -1]\n",
    "        dist =  min(l) if len(l) > 0 else np.nan\n",
    "        columns[k[:2]].append(dist / max_dist)  # normalize to [0,1]\n",
    "\n",
    "    # Add np.nan to make matrix complete\n",
    "    for k in columns.keys():\n",
    "        for i in range(5 - len(columns[k])):\n",
    "            columns[k].insert(0, np.nan)\n",
    "          \n",
    "    df = pd.DataFrame(columns, index = col_names)    \n",
    "    \n",
    "    # Mirror bottom values to top\n",
    "    for i in range(1,6):\n",
    "        label = 'A' + str(i)\n",
    "        col = df[label]\n",
    "        row = df.loc[label]\n",
    "        new_row = []\n",
    "        for c, r in zip(col, row):\n",
    "            if c != np.nan:\n",
    "                new_row.append(c)\n",
    "            else:\n",
    "                new_row.append(r)\n",
    "        df.loc[label] = new_row\n",
    "    \n",
    "    # Change diagonal values to 0\n",
    "    np.fill_diagonal(df.values, 0)\n",
    "    \n",
    "    # Apply similarity threshold\n",
    "    df = df.applymap(lambda x: 1 if x < 0.1 else 0)\n",
    "    \n",
    "    # Add new row with sum\n",
    "    df.loc[\"Total\"] = df.sum()\n",
    "    \n",
    "    matrices[key] = df\n",
    "\n",
    "#print(matrices.keys())\n",
    "#matrices['https://knowyourmeme.com/memes/ideal-gf'].head(6)\n",
    "matrices['https://knowyourmeme.com/memes/top-gun-hat'].head(6)"
   ]
  },
  {
   "cell_type": "code",
   "execution_count": 146,
   "id": "f2d40211-0d8b-45b6-af84-114988ebb5bc",
   "metadata": {},
   "outputs": [
    {
     "name": "stdout",
     "output_type": "stream",
     "text": [
      "[31, 139, 142, 120, 108, 111, 89, 3, 29, 7, 46, 27, 40, 39, 20, 33, 19, 6, 25, 89, 86, 246, 306, 280, 97, 169, 217, 191, 169, 220, 194, 102, 88, 292, 42, 204, 149, 98, 146, 242, 191, 55, 109, 40, 54, 15, 69, 136, 76, 58, 99, 191, 93, 0, 89, 91, 89, 0, 42, 89, 55, 61, 81, 91, 0, 42, 61, 91, 84, 34, 61, 57, 3, 55, 0, 55, 13, 56, 195, 187, 3, 16, 198, 13, 195, 208, 18, 124, 18, 106, 0, 106, 3, 46, 24, 49, 27, 22, 8, 5, 66, 8, 3, 58, 0, 61, 3, 58, 128, 58, 60, 58, 127, 128, 127, 2, 0, 2, 7, 8, 0, 7, 15, 7, 0, 8, 15, 7, 28, 34, 95, 28, 31, 51, 104, 61, 0, 56, 57, 3, 40, 57, 104, 64, 80, 40, 56, 0, 32, 64, 0, 0, 62, 32, 64, 0, 0, 62, 32, 64, 32, 55, 64, 2, 0, 62, 95, 88, 92, 24, 152, 108, 245, 144, 244, 176, 137, 36, 136, 113, 108, 89, 91, 0, 84, 76, 133, 85, 131, 28, 76, 85, 23, 85, 76, 100, 85, 103, 23, 131, 28, 23, 103, 23, 132, 5, 168, 132, 78, 5, 83, 0, 115, 30, 110, 20, 115, 30, 108, 10, 50, 0, 40, 50, 10, 40, 68, 44, 33, 3, 24, 35, 71, 11, 47, 36, 102, 70, 105, 119, 112, 0, 107, 87, 204, 181, 89, 70, 17, 251, 92, 87, 212, 181, 268, 75, 103, 45, 47, 49, 101, 88, 87, 85, 65, 63, 92, 2, 67, 74, 12, 74, 62, 0, 62, 34, 66, 66, 0, 66, 0, 66, 0, 66, 66, 66, 0, 0, 0, 103, 41, 0, 31, 111, 62, 103, 72, 60, 41, 10, 82, 31, 111, 114, 119, 35, 35, 37, 39, 35, 35, 117, 116, 117, 8, 0, 8, 62, 126, 115, 72, 123, 141, 72, 177, 195, 10, 83, 72, 19, 87, 10, 69, 72, 187, 176, 256, 187, 77, 0, 86, 78, 22, 123, 20, 2, 2, 2, 106, 20, 121, 20, 121, 18, 18, 0, 2, 43, 91, 91, 79, 93, 73, 93, 73, 77, 57, 0, 16, 16, 39, 39, 121, 0, 120, 120, 59, 19, 112, 50, 52, 90, 17, 131, 47, 107, 262, 4, 146, 163, 258, 116, 99, 142, 159, 17, 46, 49, 73, 80, 78, 83, 72, 70, 78, 54, 55, 73, 49, 41, 11, 8, 38, 46, 0, 124, 133, 116, 124, 133, 116, 8, 56, 0, 0, 54, 25, 18, 66, 0, 54, 25, 18, 66, 25, 65, 18, 66, 64, 31, 7, 77, 361, 148, 148, 146, 509, 509, 507, 0, 2, 2, 86, 139, 47, 53, 39, 92, 242, 211, 207, 179, 31, 66, 63, 66, 52, 177, 135, 218, 64, 205, 0, 42, 68, 113, 75, 177, 102, 125, 95, 135, 84, 218, 149, 64, 0, 54, 0, 0, 54, 0, 0, 54, 54, 0, 120, 99, 6, 120, 99, 6, 109, 88, 5, 110, 61, 102, 0, 11, 105, 11, 105, 101, 85, 109, 148, 125, 125, 67, 64, 61, 68, 0, 96, 102, 0, 96, 102, 0, 13, 96, 102, 118, 92, 108, 136, 26, 10, 18, 16, 44, 28, 495, 467, 499, 28, 4, 32, 0, 3, 77, 145, 139, 145, 136, 139, 145, 146, 136, 140, 141, 146, 142, 141, 3, 77, 145, 139, 145, 136, 139, 145, 146, 136, 140, 141, 146, 142, 141, 74, 142, 136, 142, 133, 136, 142, 143, 133, 137, 138, 143, 139, 138, 68, 64, 68, 59, 62, 68, 69, 59, 63, 64, 69, 65, 64, 41, 143, 35, 50, 39, 102, 67, 9, 2, 159, 93, 104, 67, 11, 17, 5, 39, 52, 22, 22, 35, 44, 57, 13, 83, 46, 15, 53, 47, 4, 54, 0, 54, 0, 87, 50, 46, 46, 47, 4, 47, 4, 0, 154, 154, 55, 178, 177, 179, 114, 24, 28, 147, 195, 192, 125, 122, 84, 99, 22, 22, 15, 106, 106, 121, 121, 0]\n"
     ]
    },
    {
     "data": {
      "image/png": "[encoded data removed]",
      "text/plain": [
       "<Figure size 432x288 with 1 Axes>"
      ]
     },
     "metadata": {
      "needs_background": "light"
     },
     "output_type": "display_data"
    }
   ],
   "source": [
    "# Plot levenshtein distance histogram\n",
    "plt.hist(hist_data, bins = 50)\n",
    "plt.title(\"Levenshtein distance of Meaning annotations\")\n",
    "plt.show() "
   ]
  },
  {
   "cell_type": "markdown",
   "id": "4d0e4b9f-33ee-41e6-8e1c-19db81738024",
   "metadata": {},
   "source": [
    "## Compare highlight similarity: TITLE"
   ]
  },
  {
   "cell_type": "code",
   "execution_count": 38,
   "id": "6c721029-4321-4c1f-8767-982eabb1f5a7",
   "metadata": {},
   "outputs": [
    {
     "name": "stdout",
     "output_type": "stream",
     "text": [
      "Standard deviation of NUMBER of annotations (title):\n",
      " {'https://knowyourmeme.com/memes/art-gallery-puking': 0.0, 'https://knowyourmeme.com/memes/ideal-gf': 0.0, 'https://knowyourmeme.com/memes/does-he-bite': 0.0, 'https://knowyourmeme.com/memes/darth-vaders-i-find-your-lack-of-faith-disturbing': 0.0, 'https://knowyourmeme.com/memes/dashing-black-man-holding-dangerously-large-dorito-chip': 0.0, 'https://knowyourmeme.com/memes/pretty-cool-guy': 0.0, 'https://knowyourmeme.com/memes/the-deathbulge-party-saga': 0.0, 'https://knowyourmeme.com/memes/pennywise-the-clown': 0.0, 'https://knowyourmeme.com/memes/oh-you-love-x-name-every-y': 0.0, 'https://knowyourmeme.com/memes/swear-jar': 0.0, 'https://knowyourmeme.com/memes/cant-argue-with-that-technically-not-wrong': 0.0, 'https://knowyourmeme.com/memes/dont-say-youre-a-fan-if-you-dont-know-who-this-is': 0.0, 'https://knowyourmeme.com/memes/running-dad': 0.0, 'https://knowyourmeme.com/memes/i-see-dead-people': 0.0, 'https://knowyourmeme.com/memes/your-mother-and-i-will-always-love-you': 0.0, 'https://knowyourmeme.com/memes/still-think-its-harmless': 0.0, 'https://knowyourmeme.com/memes/what-are-you-watching': 0.0, 'https://knowyourmeme.com/memes/i-was-only-pretending-to-be-retarded': 0.0, 'https://knowyourmeme.com/memes/misinformationalized-you-hear-about-video-games': 0.0, 'https://knowyourmeme.com/memes/4-panel-cringe': 0.0, 'https://knowyourmeme.com/memes/talk-to-me-like-youre-a-fucking-idiot': 0.0, 'https://knowyourmeme.com/memes/that-post-gave-me-cancer': 0.0, 'https://knowyourmeme.com/memes/coincidence-i-think-not': 0.0, 'https://knowyourmeme.com/memes/if-you-watch-x-backwards-its-about-y': 0.0, 'https://knowyourmeme.com/memes/identifying-wood': 0.0, 'https://knowyourmeme.com/memes/modern-society-parodies': 0.0, 'https://knowyourmeme.com/memes/yall-consider-this-a-date': 0.0, 'https://knowyourmeme.com/memes/oh-no-its-retarded': 0.0, 'https://knowyourmeme.com/memes/how-to-talk-to-short-people': 0.0, 'https://knowyourmeme.com/memes/is-this-a-pigeon': 0.0, 'https://knowyourmeme.com/memes/disappointed-black-guy': 0.4, 'https://knowyourmeme.com/memes/at-first-i-was-like-but-then-i-was-like': 0.4, 'https://knowyourmeme.com/memes/you-have-my-sword-and-my-bow-and-my-axe': 0.4, 'https://knowyourmeme.com/memes/where-is-your-god-now': 0.4, 'https://knowyourmeme.com/memes/bitches-love-smiley-faces': 0.4, 'https://knowyourmeme.com/memes/inb4--2': 0.4, 'https://knowyourmeme.com/memes/autistic-screeching': 0.4000000000000001, 'https://knowyourmeme.com/memes/god-left': 0.4000000000000001, 'https://knowyourmeme.com/memes/i-am-altering-the-deal': 0.4000000000000001, 'https://knowyourmeme.com/memes/imminent-ned-brace-yourselves-winter-is-coming': 0.4000000000000001, 'https://knowyourmeme.com/memes/quicksaving': 0.4898979485566356, 'https://knowyourmeme.com/memes/no-items-fox-only-final-destination': 0.4898979485566356, 'https://knowyourmeme.com/memes/top-gun-hat': 0.4898979485566356, 'https://knowyourmeme.com/memes/repost-if-x': 0.4898979485566356, 'https://knowyourmeme.com/memes/thats-where-youre-wrong-kiddo': 0.4898979485566356, 'https://knowyourmeme.com/memes/desk-flip': 0.7483314773547882, 'https://knowyourmeme.com/memes/ew-i-stepped-in-shit': 0.8, 'https://knowyourmeme.com/memes/lie-down-try-not-to-cry-cry-a-lot': 0.9797958971132713, 'https://knowyourmeme.com/memes/your-next-line-is': 1.2, 'https://knowyourmeme.com/memes/pacha-edits-when-the-sun-hits-that-ridge-just-right': 2.1354156504062622}\n"
     ]
    }
   ],
   "source": [
    "annotations = {key:[] for key in set(results['INPUT:memelink'])}\n",
    "for url, highlights in zip(results['INPUT:memelink'], results['OUTPUT:result']):\n",
    "    annotations[url].append(highlights)\n",
    "\n",
    "# Number of annotations for Title\n",
    "num_annotations = {key:[] for key in set(results['INPUT:memelink'])}\n",
    "for key, val in annotations.items():\n",
    "    num_annotations[key] = [len(x['Title']) if 'Title' in x.keys() else 0 for x in val]\n",
    "\n",
    "# Rank the annotation similarity by standard deviation of NUMBER of annotations\n",
    "std_annotations = {key:0 for key in set(results['INPUT:memelink'])}\n",
    "for key, val in num_annotations.items():\n",
    "    std_annotations[key] = np.std(val)\n",
    "std_annotations = dict(sorted(std_annotations.items(), key=lambda item: item[1]))\n",
    "print(\"Standard deviation of NUMBER of annotations (title):\\n\", std_annotations)"
   ]
  },
  {
   "cell_type": "code",
   "execution_count": 39,
   "id": "88908540-f401-48ff-9de4-697666bd1ab3",
   "metadata": {},
   "outputs": [
    {
     "name": "stdout",
     "output_type": "stream",
     "text": [
      "Standard deviation of AVERAGE LENGTH of annotations (title):\n",
      " {'https://knowyourmeme.com/memes/ideal-gf': 0.0, 'https://knowyourmeme.com/memes/darth-vaders-i-find-your-lack-of-faith-disturbing': 0.0, 'https://knowyourmeme.com/memes/pretty-cool-guy': 0.0, 'https://knowyourmeme.com/memes/the-deathbulge-party-saga': 0.0, 'https://knowyourmeme.com/memes/pennywise-the-clown': 0.0, 'https://knowyourmeme.com/memes/swear-jar': 0.0, 'https://knowyourmeme.com/memes/cant-argue-with-that-technically-not-wrong': 0.0, 'https://knowyourmeme.com/memes/dont-say-youre-a-fan-if-you-dont-know-who-this-is': 0.0, 'https://knowyourmeme.com/memes/running-dad': 0.0, 'https://knowyourmeme.com/memes/your-mother-and-i-will-always-love-you': 0.0, 'https://knowyourmeme.com/memes/what-are-you-watching': 0.0, 'https://knowyourmeme.com/memes/i-was-only-pretending-to-be-retarded': 0.0, 'https://knowyourmeme.com/memes/4-panel-cringe': 0.0, 'https://knowyourmeme.com/memes/coincidence-i-think-not': 0.0, 'https://knowyourmeme.com/memes/yall-consider-this-a-date': 0.0, 'https://knowyourmeme.com/memes/oh-no-its-retarded': 0.0, 'https://knowyourmeme.com/memes/how-to-talk-to-short-people': 0.0, 'https://knowyourmeme.com/memes/is-this-a-pigeon': 0.0, 'https://knowyourmeme.com/memes/desk-flip': 0.18257418583505539, 'https://knowyourmeme.com/memes/autistic-screeching': 0.39999999999999997, 'https://knowyourmeme.com/memes/top-gun-hat': 0.48989794855663565, 'https://knowyourmeme.com/memes/no-items-fox-only-final-destination': 0.7348469228349533, 'https://knowyourmeme.com/memes/where-is-your-god-now': 0.7999999999999999, 'https://knowyourmeme.com/memes/still-think-its-harmless': 0.7999999999999999, 'https://knowyourmeme.com/memes/misinformationalized-you-hear-about-video-games': 0.7999999999999999, 'https://knowyourmeme.com/memes/repost-if-x': 1.2649110640673518, 'https://knowyourmeme.com/memes/god-left': 1.4, 'https://knowyourmeme.com/memes/quicksaving': 1.4000000000000001, 'https://knowyourmeme.com/memes/i-am-altering-the-deal': 1.5999999999999999, 'https://knowyourmeme.com/memes/you-have-my-sword-and-my-bow-and-my-axe': 1.8, 'https://knowyourmeme.com/memes/identifying-wood': 2.0, 'https://knowyourmeme.com/memes/inb4--2': 2.3579652245103193, 'https://knowyourmeme.com/memes/that-post-gave-me-cancer': 2.8, 'https://knowyourmeme.com/memes/i-see-dead-people': 4.0, 'https://knowyourmeme.com/memes/modern-society-parodies': 4.409081537009721, 'https://knowyourmeme.com/memes/bitches-love-smiley-faces': 5.0, 'https://knowyourmeme.com/memes/if-you-watch-x-backwards-its-about-y': 5.6000000000000005, 'https://knowyourmeme.com/memes/pacha-edits-when-the-sun-hits-that-ridge-just-right': 5.866666666666667, 'https://knowyourmeme.com/memes/ew-i-stepped-in-shit': 6.0, 'https://knowyourmeme.com/memes/disappointed-black-guy': 7.2, 'https://knowyourmeme.com/memes/oh-you-love-x-name-every-y': 7.8, 'https://knowyourmeme.com/memes/talk-to-me-like-youre-a-fucking-idiot': 11.6, 'https://knowyourmeme.com/memes/lie-down-try-not-to-cry-cry-a-lot': 13.063945294843615, 'https://knowyourmeme.com/memes/imminent-ned-brace-yourselves-winter-is-coming': 13.74918179383777, 'https://knowyourmeme.com/memes/thats-where-youre-wrong-kiddo': 17.29045979724079, 'https://knowyourmeme.com/memes/dashing-black-man-holding-dangerously-large-dorito-chip': 17.6, 'https://knowyourmeme.com/memes/at-first-i-was-like-but-then-i-was-like': 19.636700333813724, 'https://knowyourmeme.com/memes/your-next-line-is': 27.004032620662006, 'https://knowyourmeme.com/memes/does-he-bite': 83.20913411399015, 'https://knowyourmeme.com/memes/art-gallery-puking': 101.2}\n"
     ]
    }
   ],
   "source": [
    "# Rank the annotation similarity by standard deviation of AVERAGE LENGTH of annotations\n",
    "length_annotations = {key:0 for key in set(results['INPUT:memelink'])}\n",
    "for key, val in annotations.items():\n",
    "    avg_lengths = []\n",
    "    for ann in val:\n",
    "        avg = []\n",
    "        if 'Title' in ann.keys():\n",
    "            for highlight in ann['Title']:\n",
    "                avg.append(len(highlight))\n",
    "            avg_lengths.append(sum(avg) / len(avg))\n",
    "        else:\n",
    "            avg_lengths.append(0)\n",
    "    length_annotations[key] = np.std(avg_lengths)\n",
    "    \n",
    "length_annotations = dict(sorted(length_annotations.items(), key=lambda item: item[1]))\n",
    "print(\"Standard deviation of AVERAGE LENGTH of annotations (title):\\n\", length_annotations)"
   ]
  },
  {
   "cell_type": "code",
   "execution_count": 67,
   "id": "e4816c98-4f97-4903-a5d0-6fc32b8c90f0",
   "metadata": {},
   "outputs": [
    {
     "data": {
      "text/html": [
       "<div>\n",
       "<style scoped>\n",
       "    .dataframe tbody tr th:only-of-type {\n",
       "        vertical-align: middle;\n",
       "    }\n",
       "\n",
       "    .dataframe tbody tr th {\n",
       "        vertical-align: top;\n",
       "    }\n",
       "\n",
       "    .dataframe thead th {\n",
       "        text-align: right;\n",
       "    }\n",
       "</style>\n",
       "<table border=\"1\" class=\"dataframe\">\n",
       "  <thead>\n",
       "    <tr style=\"text-align: right;\">\n",
       "      <th></th>\n",
       "      <th>url</th>\n",
       "      <th>A1-A2</th>\n",
       "      <th>A1-A3</th>\n",
       "      <th>A1-A4</th>\n",
       "      <th>A1-A5</th>\n",
       "      <th>A2-A3</th>\n",
       "      <th>A2-A4</th>\n",
       "      <th>A2-A5</th>\n",
       "      <th>A3-A4</th>\n",
       "      <th>A3-A5</th>\n",
       "      <th>A4-A5</th>\n",
       "    </tr>\n",
       "  </thead>\n",
       "  <tbody>\n",
       "    <tr>\n",
       "      <th>0</th>\n",
       "      <td>https://knowyourmeme.com/memes/art-gallery-puking</td>\n",
       "      <td>[253]</td>\n",
       "      <td>[253]</td>\n",
       "      <td>[253]</td>\n",
       "      <td>[253]</td>\n",
       "      <td>[0]</td>\n",
       "      <td>[0]</td>\n",
       "      <td>[0]</td>\n",
       "      <td>[0]</td>\n",
       "      <td>[0]</td>\n",
       "      <td>[0]</td>\n",
       "    </tr>\n",
       "    <tr>\n",
       "      <th>1</th>\n",
       "      <td>https://knowyourmeme.com/memes/ideal-gf</td>\n",
       "      <td>[0]</td>\n",
       "      <td>[0]</td>\n",
       "      <td>[0]</td>\n",
       "      <td>[0]</td>\n",
       "      <td>[0]</td>\n",
       "      <td>[0]</td>\n",
       "      <td>[0]</td>\n",
       "      <td>[0]</td>\n",
       "      <td>[0]</td>\n",
       "      <td>[0]</td>\n",
       "    </tr>\n",
       "    <tr>\n",
       "      <th>2</th>\n",
       "      <td>https://knowyourmeme.com/memes/your-next-line-is</td>\n",
       "      <td>[74, 63, 64]</td>\n",
       "      <td>[70, 63, 64]</td>\n",
       "      <td>[70]</td>\n",
       "      <td>[70, 63, 64, 71]</td>\n",
       "      <td>[4, 11, 18, 8, 0, 18, 19, 18, 0]</td>\n",
       "      <td>[4, 8, 19]</td>\n",
       "      <td>[4, 11, 18, 3, 8, 0, 18, 9, 19, 18, 0, 20]</td>\n",
       "      <td>[0, 8, 19]</td>\n",
       "      <td>[0, 8, 19, 1, 8, 0, 18, 9, 19, 18, 0, 20]</td>\n",
       "      <td>[0, 8, 19, 1]</td>\n",
       "    </tr>\n",
       "    <tr>\n",
       "      <th>3</th>\n",
       "      <td>https://knowyourmeme.com/memes/disappointed-bl...</td>\n",
       "      <td>[0]</td>\n",
       "      <td>[17, 19]</td>\n",
       "      <td>[0]</td>\n",
       "      <td>[0]</td>\n",
       "      <td>[17, 19]</td>\n",
       "      <td>[0]</td>\n",
       "      <td>[0]</td>\n",
       "      <td>[17, 19]</td>\n",
       "      <td>[17, 19]</td>\n",
       "      <td>[0]</td>\n",
       "    </tr>\n",
       "    <tr>\n",
       "      <th>4</th>\n",
       "      <td>https://knowyourmeme.com/memes/at-first-i-was-...</td>\n",
       "      <td>[39]</td>\n",
       "      <td>[0]</td>\n",
       "      <td>[]</td>\n",
       "      <td>[0]</td>\n",
       "      <td>[39]</td>\n",
       "      <td>[]</td>\n",
       "      <td>[39]</td>\n",
       "      <td>[]</td>\n",
       "      <td>[0]</td>\n",
       "      <td>[]</td>\n",
       "    </tr>\n",
       "    <tr>\n",
       "      <th>5</th>\n",
       "      <td>https://knowyourmeme.com/memes/does-he-bite</td>\n",
       "      <td>[0]</td>\n",
       "      <td>[204]</td>\n",
       "      <td>[0]</td>\n",
       "      <td>[12]</td>\n",
       "      <td>[204]</td>\n",
       "      <td>[0]</td>\n",
       "      <td>[12]</td>\n",
       "      <td>[204]</td>\n",
       "      <td>[215]</td>\n",
       "      <td>[12]</td>\n",
       "    </tr>\n",
       "    <tr>\n",
       "      <th>6</th>\n",
       "      <td>https://knowyourmeme.com/memes/desk-flip</td>\n",
       "      <td>[0, 5, 5, 0, 0, 5]</td>\n",
       "      <td>[0, 5, 5, 0, 0, 5]</td>\n",
       "      <td>[0, 5, 0, 5, 0, 5, 0, 5, 0]</td>\n",
       "      <td>[0, 5, 0]</td>\n",
       "      <td>[0, 5, 5, 0]</td>\n",
       "      <td>[0, 5, 0, 5, 0, 5]</td>\n",
       "      <td>[0, 5]</td>\n",
       "      <td>[0, 5, 0, 5, 0, 5]</td>\n",
       "      <td>[0, 5]</td>\n",
       "      <td>[0, 5, 0]</td>\n",
       "    </tr>\n",
       "    <tr>\n",
       "      <th>7</th>\n",
       "      <td>https://knowyourmeme.com/memes/darth-vaders-i-...</td>\n",
       "      <td>[0]</td>\n",
       "      <td>[0]</td>\n",
       "      <td>[0]</td>\n",
       "      <td>[0]</td>\n",
       "      <td>[0]</td>\n",
       "      <td>[0]</td>\n",
       "      <td>[0]</td>\n",
       "      <td>[0]</td>\n",
       "      <td>[0]</td>\n",
       "      <td>[0]</td>\n",
       "    </tr>\n",
       "    <tr>\n",
       "      <th>8</th>\n",
       "      <td>https://knowyourmeme.com/memes/dashing-black-m...</td>\n",
       "      <td>[0]</td>\n",
       "      <td>[0]</td>\n",
       "      <td>[0]</td>\n",
       "      <td>[44]</td>\n",
       "      <td>[0]</td>\n",
       "      <td>[0]</td>\n",
       "      <td>[44]</td>\n",
       "      <td>[0]</td>\n",
       "      <td>[44]</td>\n",
       "      <td>[44]</td>\n",
       "    </tr>\n",
       "    <tr>\n",
       "      <th>9</th>\n",
       "      <td>https://knowyourmeme.com/memes/pretty-cool-guy</td>\n",
       "      <td>[0]</td>\n",
       "      <td>[0]</td>\n",
       "      <td>[0]</td>\n",
       "      <td>[0]</td>\n",
       "      <td>[0]</td>\n",
       "      <td>[0]</td>\n",
       "      <td>[0]</td>\n",
       "      <td>[0]</td>\n",
       "      <td>[0]</td>\n",
       "      <td>[0]</td>\n",
       "    </tr>\n",
       "  </tbody>\n",
       "</table>\n",
       "</div>"
      ],
      "text/plain": [
       "                                                 url               A1-A2  \\\n",
       "0  https://knowyourmeme.com/memes/art-gallery-puking               [253]   \n",
       "1            https://knowyourmeme.com/memes/ideal-gf                 [0]   \n",
       "2   https://knowyourmeme.com/memes/your-next-line-is        [74, 63, 64]   \n",
       "3  https://knowyourmeme.com/memes/disappointed-bl...                 [0]   \n",
       "4  https://knowyourmeme.com/memes/at-first-i-was-...                [39]   \n",
       "5        https://knowyourmeme.com/memes/does-he-bite                 [0]   \n",
       "6           https://knowyourmeme.com/memes/desk-flip  [0, 5, 5, 0, 0, 5]   \n",
       "7  https://knowyourmeme.com/memes/darth-vaders-i-...                 [0]   \n",
       "8  https://knowyourmeme.com/memes/dashing-black-m...                 [0]   \n",
       "9     https://knowyourmeme.com/memes/pretty-cool-guy                 [0]   \n",
       "\n",
       "                A1-A3                        A1-A4             A1-A5  \\\n",
       "0               [253]                        [253]             [253]   \n",
       "1                 [0]                          [0]               [0]   \n",
       "2        [70, 63, 64]                         [70]  [70, 63, 64, 71]   \n",
       "3            [17, 19]                          [0]               [0]   \n",
       "4                 [0]                           []               [0]   \n",
       "5               [204]                          [0]              [12]   \n",
       "6  [0, 5, 5, 0, 0, 5]  [0, 5, 0, 5, 0, 5, 0, 5, 0]         [0, 5, 0]   \n",
       "7                 [0]                          [0]               [0]   \n",
       "8                 [0]                          [0]              [44]   \n",
       "9                 [0]                          [0]               [0]   \n",
       "\n",
       "                              A2-A3               A2-A4  \\\n",
       "0                               [0]                 [0]   \n",
       "1                               [0]                 [0]   \n",
       "2  [4, 11, 18, 8, 0, 18, 19, 18, 0]          [4, 8, 19]   \n",
       "3                          [17, 19]                 [0]   \n",
       "4                              [39]                  []   \n",
       "5                             [204]                 [0]   \n",
       "6                      [0, 5, 5, 0]  [0, 5, 0, 5, 0, 5]   \n",
       "7                               [0]                 [0]   \n",
       "8                               [0]                 [0]   \n",
       "9                               [0]                 [0]   \n",
       "\n",
       "                                        A2-A5               A3-A4  \\\n",
       "0                                         [0]                 [0]   \n",
       "1                                         [0]                 [0]   \n",
       "2  [4, 11, 18, 3, 8, 0, 18, 9, 19, 18, 0, 20]          [0, 8, 19]   \n",
       "3                                         [0]            [17, 19]   \n",
       "4                                        [39]                  []   \n",
       "5                                        [12]               [204]   \n",
       "6                                      [0, 5]  [0, 5, 0, 5, 0, 5]   \n",
       "7                                         [0]                 [0]   \n",
       "8                                        [44]                 [0]   \n",
       "9                                         [0]                 [0]   \n",
       "\n",
       "                                       A3-A5          A4-A5  \n",
       "0                                        [0]            [0]  \n",
       "1                                        [0]            [0]  \n",
       "2  [0, 8, 19, 1, 8, 0, 18, 9, 19, 18, 0, 20]  [0, 8, 19, 1]  \n",
       "3                                   [17, 19]            [0]  \n",
       "4                                        [0]             []  \n",
       "5                                      [215]           [12]  \n",
       "6                                     [0, 5]      [0, 5, 0]  \n",
       "7                                        [0]            [0]  \n",
       "8                                       [44]           [44]  \n",
       "9                                        [0]            [0]  "
      ]
     },
     "execution_count": 67,
     "metadata": {},
     "output_type": "execute_result"
    }
   ],
   "source": [
    "# Rank the annotation similarity by Levenshtein distance of annotations\n",
    "highlights = {key:[] for key in set(results['INPUT:memelink'])}\n",
    "distances = {key:{} for key in set(results['INPUT:memelink'])}\n",
    "for key, val in annotations.items():\n",
    "    ID = 0\n",
    "    anns = []\n",
    "    for ann in val:\n",
    "        ID += 1\n",
    "        if 'Title' in ann.keys():\n",
    "            for a in ann['Title']:\n",
    "                anns.append((ID, a))\n",
    "        else:\n",
    "            anns.append((ID, \"\")) # Missing annotations\n",
    "    highlights[key] = anns\n",
    "\n",
    "\n",
    "for key, val in highlights.items():\n",
    "    lev = {}\n",
    "    for i in range(len(val) - 1):\n",
    "        for j in range(i + 1, len(val)):\n",
    "            ann1 = val[i]\n",
    "            ann2 = val[j]\n",
    "            if ann1[0] != ann2[0]:\n",
    "                new_key = \"A\" + str(ann1[0]) + \"-A\" + str(ann2[0])\n",
    "                if new_key in lev.keys():\n",
    "                    if ann1[1] == \"\" or ann2[1] == \"\":\n",
    "                        lev[new_key].append(-1)\n",
    "                    else:\n",
    "                        lev[new_key].append(Levenshtein.distance(ann1[1].strip(\" ,.:;-\"), ann2[1].strip(\" ,.:;-\")))\n",
    "                else:\n",
    "                    if ann1[1] == \"\" or ann2[1] == \"\":\n",
    "                        lev[new_key] = [-1]\n",
    "                    else:\n",
    "                        lev[new_key] = [Levenshtein.distance(ann1[1].strip(\" ,.:;-\"), ann2[1].strip(\" ,.:;-\"))]\n",
    "    distances[key] = lev\n",
    "            \n",
    "\n",
    "col_names = ['url', 'A1-A2', 'A1-A3', 'A1-A4', 'A1-A5', 'A2-A3', 'A2-A4', 'A2-A5', 'A3-A4', 'A3-A5', 'A4-A5']\n",
    "columns = {key:[] for key in col_names}\n",
    "\n",
    "for key, value in distances.items():\n",
    "    columns['url'].append(key)\n",
    "    for k, v in value.items():\n",
    "        columns[k].append([x for x in v if x != -1])  # Remove missing values\n",
    "\n",
    "df = pd.DataFrame(columns)\n",
    "df.head(10)"
   ]
  },
  {
   "cell_type": "code",
   "execution_count": 73,
   "id": "90af7056-bb68-41cc-be78-7e1fe4063d54",
   "metadata": {},
   "outputs": [
    {
     "data": {
      "image/png": "[encoded data removed]",
      "text/plain": [
       "<Figure size 432x288 with 1 Axes>"
      ]
     },
     "metadata": {
      "needs_background": "light"
     },
     "output_type": "display_data"
    }
   ],
   "source": [
    "# Plot levenshtein distance histogram\n",
    "hist_data = [x for val in distances.values() for x in val.values()]\n",
    "hist_data = [x for sublist in hist_data for x in sublist if x != -1]\n",
    "plt.hist(hist_data, bins = 50)\n",
    "plt.title(\"Levenshtein distance of Title annotations\")\n",
    "plt.show() "
   ]
  }
 ],
 "metadata": {
  "kernelspec": {
   "display_name": "Python 3 (ipykernel)",
   "language": "python",
   "name": "python3"
  },
  "language_info": {
   "codemirror_mode": {
    "name": "ipython",
    "version": 3
   },
   "file_extension": ".py",
   "mimetype": "text/x-python",
   "name": "python",
   "nbconvert_exporter": "python",
   "pygments_lexer": "ipython3",
   "version": "3.9.12"
  }
 },
 "nbformat": 4,
 "nbformat_minor": 5
}
